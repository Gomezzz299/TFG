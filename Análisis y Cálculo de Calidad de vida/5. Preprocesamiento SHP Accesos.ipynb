{
 "cells": [
  {
   "cell_type": "markdown",
   "id": "fac1c60b",
   "metadata": {},
   "source": [
    "# Paso a formato Shapefile\n",
    "También se guardará el dataset en formato shp para poder visualizar el resultado en forma de mapa\n",
    "## 1. Importación de librerías y establecimiento de directorio de trabajo"
   ]
  },
  {
   "cell_type": "code",
   "execution_count": 1,
   "id": "4f98178d",
   "metadata": {},
   "outputs": [],
   "source": [
    "import os\n",
    "import numpy as np\n",
    "import pandas as pd\n",
    "import geopandas as gpd\n",
    "import warnings\n",
    "warnings.simplefilter(\"ignore\")\n",
    "\n",
    "os.chdir(\"C:/Users/aleja/OneDrive - Universidad Politécnica de Madrid/Universidad/Asignaturas/Cuarto/Trabajo de Fin de Grado\")"
   ]
  },
  {
   "cell_type": "markdown",
   "id": "d25f956c",
   "metadata": {},
   "source": [
    "## 2. Carga de datos"
   ]
  },
  {
   "cell_type": "code",
   "execution_count": 2,
   "id": "ede8b79d",
   "metadata": {},
   "outputs": [
    {
     "data": {
      "text/html": [
       "<div>\n",
       "<style scoped>\n",
       "    .dataframe tbody tr th:only-of-type {\n",
       "        vertical-align: middle;\n",
       "    }\n",
       "\n",
       "    .dataframe tbody tr th {\n",
       "        vertical-align: top;\n",
       "    }\n",
       "\n",
       "    .dataframe thead th {\n",
       "        text-align: right;\n",
       "    }\n",
       "</style>\n",
       "<table border=\"1\" class=\"dataframe\">\n",
       "  <thead>\n",
       "    <tr style=\"text-align: right;\">\n",
       "      <th></th>\n",
       "      <th>latitud</th>\n",
       "      <th>longitud</th>\n",
       "      <th>edad</th>\n",
       "      <th>calidad_vida</th>\n",
       "    </tr>\n",
       "  </thead>\n",
       "  <tbody>\n",
       "    <tr>\n",
       "      <th>0</th>\n",
       "      <td>41.621468</td>\n",
       "      <td>2.068474</td>\n",
       "      <td>11</td>\n",
       "      <td>52.885748</td>\n",
       "    </tr>\n",
       "    <tr>\n",
       "      <th>1</th>\n",
       "      <td>41.600270</td>\n",
       "      <td>2.085002</td>\n",
       "      <td>12</td>\n",
       "      <td>74.793875</td>\n",
       "    </tr>\n",
       "    <tr>\n",
       "      <th>2</th>\n",
       "      <td>41.616524</td>\n",
       "      <td>2.089927</td>\n",
       "      <td>12</td>\n",
       "      <td>79.858657</td>\n",
       "    </tr>\n",
       "    <tr>\n",
       "      <th>3</th>\n",
       "      <td>41.618820</td>\n",
       "      <td>2.089480</td>\n",
       "      <td>11</td>\n",
       "      <td>79.858657</td>\n",
       "    </tr>\n",
       "    <tr>\n",
       "      <th>4</th>\n",
       "      <td>41.618908</td>\n",
       "      <td>2.089475</td>\n",
       "      <td>12</td>\n",
       "      <td>79.858657</td>\n",
       "    </tr>\n",
       "  </tbody>\n",
       "</table>\n",
       "</div>"
      ],
      "text/plain": [
       "     latitud  longitud  edad  calidad_vida\n",
       "0  41.621468  2.068474    11     52.885748\n",
       "1  41.600270  2.085002    12     74.793875\n",
       "2  41.616524  2.089927    12     79.858657\n",
       "3  41.618820  2.089480    11     79.858657\n",
       "4  41.618908  2.089475    12     79.858657"
      ]
     },
     "execution_count": 2,
     "metadata": {},
     "output_type": "execute_result"
    }
   ],
   "source": [
    "accesos = pd.read_csv(\"Resultados/Accesos_Calidad_Vida.csv\", index_col=\"Unnamed: 0\")\n",
    "accesos.head()"
   ]
  },
  {
   "cell_type": "markdown",
   "id": "48aef75a",
   "metadata": {},
   "source": [
    "## 3. Guardar en formato shp\n",
    "### 3.1. Todos los datos"
   ]
  },
  {
   "cell_type": "code",
   "execution_count": 3,
   "id": "620840f6",
   "metadata": {},
   "outputs": [
    {
     "data": {
      "text/html": [
       "<div>\n",
       "<style scoped>\n",
       "    .dataframe tbody tr th:only-of-type {\n",
       "        vertical-align: middle;\n",
       "    }\n",
       "\n",
       "    .dataframe tbody tr th {\n",
       "        vertical-align: top;\n",
       "    }\n",
       "\n",
       "    .dataframe thead th {\n",
       "        text-align: right;\n",
       "    }\n",
       "</style>\n",
       "<table border=\"1\" class=\"dataframe\">\n",
       "  <thead>\n",
       "    <tr style=\"text-align: right;\">\n",
       "      <th></th>\n",
       "      <th>edad</th>\n",
       "      <th>calidad_vida</th>\n",
       "      <th>geometry</th>\n",
       "    </tr>\n",
       "  </thead>\n",
       "  <tbody>\n",
       "    <tr>\n",
       "      <th>0</th>\n",
       "      <td>11</td>\n",
       "      <td>52.885748</td>\n",
       "      <td>POINT (2.06847 41.62147)</td>\n",
       "    </tr>\n",
       "    <tr>\n",
       "      <th>1</th>\n",
       "      <td>12</td>\n",
       "      <td>74.793875</td>\n",
       "      <td>POINT (2.08500 41.60027)</td>\n",
       "    </tr>\n",
       "    <tr>\n",
       "      <th>2</th>\n",
       "      <td>12</td>\n",
       "      <td>79.858657</td>\n",
       "      <td>POINT (2.08993 41.61652)</td>\n",
       "    </tr>\n",
       "    <tr>\n",
       "      <th>3</th>\n",
       "      <td>11</td>\n",
       "      <td>79.858657</td>\n",
       "      <td>POINT (2.08948 41.61882)</td>\n",
       "    </tr>\n",
       "    <tr>\n",
       "      <th>4</th>\n",
       "      <td>12</td>\n",
       "      <td>79.858657</td>\n",
       "      <td>POINT (2.08947 41.61891)</td>\n",
       "    </tr>\n",
       "    <tr>\n",
       "      <th>...</th>\n",
       "      <td>...</td>\n",
       "      <td>...</td>\n",
       "      <td>...</td>\n",
       "    </tr>\n",
       "    <tr>\n",
       "      <th>7934</th>\n",
       "      <td>72</td>\n",
       "      <td>79.858657</td>\n",
       "      <td>POINT (2.08977 41.61781)</td>\n",
       "    </tr>\n",
       "    <tr>\n",
       "      <th>7935</th>\n",
       "      <td>65</td>\n",
       "      <td>34.511190</td>\n",
       "      <td>POINT (2.06794 41.62406)</td>\n",
       "    </tr>\n",
       "    <tr>\n",
       "      <th>7936</th>\n",
       "      <td>68</td>\n",
       "      <td>34.511190</td>\n",
       "      <td>POINT (2.06815 41.62417)</td>\n",
       "    </tr>\n",
       "    <tr>\n",
       "      <th>7937</th>\n",
       "      <td>72</td>\n",
       "      <td>79.858657</td>\n",
       "      <td>POINT (2.08307 41.61268)</td>\n",
       "    </tr>\n",
       "    <tr>\n",
       "      <th>7938</th>\n",
       "      <td>67</td>\n",
       "      <td>79.858657</td>\n",
       "      <td>POINT (2.09472 41.61948)</td>\n",
       "    </tr>\n",
       "  </tbody>\n",
       "</table>\n",
       "<p>47634 rows × 3 columns</p>\n",
       "</div>"
      ],
      "text/plain": [
       "      edad  calidad_vida                  geometry\n",
       "0       11     52.885748  POINT (2.06847 41.62147)\n",
       "1       12     74.793875  POINT (2.08500 41.60027)\n",
       "2       12     79.858657  POINT (2.08993 41.61652)\n",
       "3       11     79.858657  POINT (2.08948 41.61882)\n",
       "4       12     79.858657  POINT (2.08947 41.61891)\n",
       "...    ...           ...                       ...\n",
       "7934    72     79.858657  POINT (2.08977 41.61781)\n",
       "7935    65     34.511190  POINT (2.06794 41.62406)\n",
       "7936    68     34.511190  POINT (2.06815 41.62417)\n",
       "7937    72     79.858657  POINT (2.08307 41.61268)\n",
       "7938    67     79.858657  POINT (2.09472 41.61948)\n",
       "\n",
       "[47634 rows x 3 columns]"
      ]
     },
     "execution_count": 3,
     "metadata": {},
     "output_type": "execute_result"
    }
   ],
   "source": [
    "accesos_geo = gpd.GeoDataFrame(accesos.drop(['latitud', 'longitud'], axis=1), \n",
    "                               crs=\"EPSG:4326\", \n",
    "                               geometry=gpd.points_from_xy(accesos['longitud'], accesos['latitud']))\n",
    "\n",
    "accesos_geo.to_file(\"Resultados/Accesos_Calidad_Vida.shp\")\n",
    "\n",
    "accesos_geo.head()"
   ]
  },
  {
   "cell_type": "markdown",
   "id": "8dc1f3fe",
   "metadata": {},
   "source": [
    "### 3.2. Menores de 18 años"
   ]
  },
  {
   "cell_type": "code",
   "execution_count": 9,
   "id": "c36f4687",
   "metadata": {},
   "outputs": [],
   "source": [
    "accesos_geo_menores = accesos_geo[accesos_geo[\"edad\"] < 18]\n",
    "accesos_geo_menores = accesos_geo_menores.reset_index()\n",
    "accesos_geo_menores = accesos_geo_menores.drop(columns=['index'])\n",
    "\n",
    "accesos_menores = accesos[accesos[\"edad\"] < 18]\n",
    "accesos_menores = accesos_menores.reset_index()\n",
    "accesos_menores = accesos_menores.drop(columns=['index'])\n",
    "\n",
    "accesos_menores.to_csv(\"Resultados/Accesos_qol_menores.csv\")\n",
    "accesos_geo_menores.to_file(\"Resultados/Accesos_qol_menores.shp\")\n",
    "\n",
    "accesos_geo_menores.head()"
   ]
  },
  {
   "cell_type": "markdown",
   "id": "ce024a9c",
   "metadata": {},
   "source": [
    "### 3.3. Mayores de 18 años y menores de 65 años"
   ]
  },
  {
   "cell_type": "code",
   "execution_count": 17,
   "id": "df426aa4",
   "metadata": {},
   "outputs": [],
   "source": [
    "accesos_geo_medianos = accesos_geo[accesos_geo[\"edad\"] < 65]\n",
    "accesos_geo_medianos = accesos_geo_medianos[accesos_geo_medianos[\"edad\"] > 18]\n",
    "accesos_geo_medianos = accesos_geo_medianos.reset_index()\n",
    "accesos_geo_medianos = accesos_geo_medianos.drop(columns=['index'])\n",
    "\n",
    "accesos_medianos = accesos[accesos[\"edad\"] < 65]\n",
    "accesos_medianos = accesos_medianos[accesos_medianos[\"edad\"] > 18]\n",
    "accesos_medianos = accesos_medianos.reset_index()\n",
    "accesos_medianos = accesos_medianos.drop(columns=['index'])\n",
    "\n",
    "accesos_medianos.to_csv(\"Resultados/Accesos/Accesos_qol_medianos.csv\")\n",
    "accesos_geo_medianos.to_file(\"Resultados/Accesos/Accesos_qol_medianos.shp\")\n",
    "\n",
    "accesos_geo_medianos.head()"
   ]
  },
  {
   "cell_type": "markdown",
   "id": "135c3799",
   "metadata": {},
   "source": [
    "### 3.3. Mayores de 65 años"
   ]
  },
  {
   "cell_type": "code",
   "execution_count": 19,
   "id": "0bdf6701",
   "metadata": {},
   "outputs": [],
   "source": [
    "accesos_geo_mayores = accesos_geo[accesos_geo[\"edad\"] > 64]\n",
    "accesos_geo_mayores = accesos_geo_mayores.reset_index()\n",
    "accesos_geo_mayores = accesos_geo_mayores.drop(columns=['index'])\n",
    "\n",
    "accesos_mayores = accesos[accesos[\"edad\"] > 64]\n",
    "accesos_mayores = accesos_mayores.reset_index()\n",
    "accesos_mayores = accesos_mayores.drop(columns=['index'])\n",
    "\n",
    "accesos_mayores.to_csv(\"Resultados/Accesos/Accesos_qol_mayores.csv\")\n",
    "accesos_geo_mayores.to_file(\"Resultados/Accesos/Accesos_qol_mayores.shp\")\n",
    "\n",
    "accesos_geo_mayores.head()"
   ]
  }
 ],
 "metadata": {
  "kernelspec": {
   "display_name": "Python 3 (ipykernel)",
   "language": "python",
   "name": "python3"
  },
  "language_info": {
   "codemirror_mode": {
    "name": "ipython",
    "version": 3
   },
   "file_extension": ".py",
   "mimetype": "text/x-python",
   "name": "python",
   "nbconvert_exporter": "python",
   "pygments_lexer": "ipython3",
   "version": "3.8.16"
  }
 },
 "nbformat": 4,
 "nbformat_minor": 5
}
