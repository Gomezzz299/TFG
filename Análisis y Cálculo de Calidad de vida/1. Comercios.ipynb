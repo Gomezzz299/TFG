{
 "cells": [
  {
   "cell_type": "markdown",
   "id": "ce3226a1",
   "metadata": {},
   "source": [
    "# Análisis de actividades económicas\n",
    "## 1. Importar librerías y establecer el directorio de trabajo"
   ]
  },
  {
   "cell_type": "code",
   "execution_count": 12,
   "id": "ae8c4d65",
   "metadata": {},
   "outputs": [],
   "source": [
    "import os\n",
    "import geopandas as gpd\n",
    "\n",
    "os.chdir(\"C:/Users/aleja/OneDrive - Universidad Politécnica de Madrid/Universidad/Asignaturas/Cuarto/Trabajo de Fin de Grado\")"
   ]
  },
  {
   "cell_type": "markdown",
   "id": "0800a683",
   "metadata": {},
   "source": [
    "## 2. Cargar datos"
   ]
  },
  {
   "cell_type": "code",
   "execution_count": 13,
   "id": "a63fd856",
   "metadata": {
    "scrolled": true
   },
   "outputs": [
    {
     "data": {
      "text/html": [
       "<div>\n",
       "<style scoped>\n",
       "    .dataframe tbody tr th:only-of-type {\n",
       "        vertical-align: middle;\n",
       "    }\n",
       "\n",
       "    .dataframe tbody tr th {\n",
       "        vertical-align: top;\n",
       "    }\n",
       "\n",
       "    .dataframe thead th {\n",
       "        text-align: right;\n",
       "    }\n",
       "</style>\n",
       "<table border=\"1\" class=\"dataframe\">\n",
       "  <thead>\n",
       "    <tr style=\"text-align: right;\">\n",
       "      <th></th>\n",
       "      <th>id</th>\n",
       "      <th>categoria</th>\n",
       "      <th>aa_ida</th>\n",
       "      <th>geometry</th>\n",
       "    </tr>\n",
       "  </thead>\n",
       "  <tbody>\n",
       "    <tr>\n",
       "      <th>0</th>\n",
       "      <td>904</td>\n",
       "      <td>106###PEIXETERIA</td>\n",
       "      <td>ACTIVIDAD_012253</td>\n",
       "      <td>POINT (2.08810 41.61469)</td>\n",
       "    </tr>\n",
       "    <tr>\n",
       "      <th>1</th>\n",
       "      <td>1198</td>\n",
       "      <td>106###PEIXETERIA</td>\n",
       "      <td>ACTIVIDAD_012255</td>\n",
       "      <td>POINT (2.08754 41.61611)</td>\n",
       "    </tr>\n",
       "    <tr>\n",
       "      <th>2</th>\n",
       "      <td>914</td>\n",
       "      <td>106###PEIXETERIA</td>\n",
       "      <td>ACTIVIDAD_012256</td>\n",
       "      <td>POINT (2.08729 41.61523)</td>\n",
       "    </tr>\n",
       "    <tr>\n",
       "      <th>3</th>\n",
       "      <td>1223</td>\n",
       "      <td>110###PERRUQUERIES</td>\n",
       "      <td>ACTIVIDAD_013554</td>\n",
       "      <td>POINT (2.08657 41.61550)</td>\n",
       "    </tr>\n",
       "    <tr>\n",
       "      <th>4</th>\n",
       "      <td>1224</td>\n",
       "      <td>110###PERRUQUERIES</td>\n",
       "      <td>ACTIVIDAD_013556</td>\n",
       "      <td>POINT (2.08618 41.61327)</td>\n",
       "    </tr>\n",
       "  </tbody>\n",
       "</table>\n",
       "</div>"
      ],
      "text/plain": [
       "     id           categoria            aa_ida                  geometry\n",
       "0   904    106###PEIXETERIA  ACTIVIDAD_012253  POINT (2.08810 41.61469)\n",
       "1  1198    106###PEIXETERIA  ACTIVIDAD_012255  POINT (2.08754 41.61611)\n",
       "2   914    106###PEIXETERIA  ACTIVIDAD_012256  POINT (2.08729 41.61523)\n",
       "3  1223  110###PERRUQUERIES  ACTIVIDAD_013554  POINT (2.08657 41.61550)\n",
       "4  1224  110###PERRUQUERIES  ACTIVIDAD_013556  POINT (2.08618 41.61327)"
      ]
     },
     "execution_count": 13,
     "metadata": {},
     "output_type": "execute_result"
    }
   ],
   "source": [
    "actividades_economicas = gpd.read_file(\"Capas/ACTIVIDADES.geojson\")\n",
    "actividades_economicas.head()"
   ]
  },
  {
   "cell_type": "markdown",
   "id": "41283068",
   "metadata": {},
   "source": [
    "## 3. Limpieza de datos\n",
    "Se eliminan las categorías duplicadas para saber qué comercios hay"
   ]
  },
  {
   "cell_type": "code",
   "execution_count": 14,
   "id": "0e8c0d1a",
   "metadata": {},
   "outputs": [
    {
     "name": "stdout",
     "output_type": "stream",
     "text": [
      "0                                 106###PEIXETERIA\n",
      "1                               110###PERRUQUERIES\n",
      "2                12###ALIMENTACIÓ, BEGUDES I TABAC\n",
      "3                                120###RESTAURANTS\n",
      "4                                       121###ROBA\n",
      "5                                  122###SABATERIA\n",
      "6                  129###SUPERMERCATS/HIPERMERCATS\n",
      "7     133###VENDA I REPARACIÓ DE VEHÍCLES DE MOTOR\n",
      "8                           30###BARS I CAFETERIES\n",
      "9                                      31###BASARS\n",
      "10     34###BOTIGA D'ALIMENTACIÓ NO ESPECIALITZADA\n",
      "11                                  36###BUGADERIA\n",
      "12                                37###CARNISSERIA\n",
      "13                     43###COMUNICACIONS I IMATGE\n",
      "14                  51###DIETÈTICA I HERBORISTERIA\n",
      "15                     54###DROGUERIA - PERFUMERIA\n",
      "16                    58###ELECTRICISTA I LAMPISTA\n",
      "17                           59###ELECTRODOMÈSTICS\n",
      "18          68###FERRETERIA/COPIA CLAUS/CERRAJERIA\n",
      "19                       71###FORNS I PASTISSERIES\n",
      "20                           73###FRUITA I VERDURA\n",
      "21               87###JOQUINES I ARTICLES D'ESPORT\n",
      "22                         99###MOBLES I DECORACIÓ\n",
      "Name: categoria, dtype: object\n"
     ]
    }
   ],
   "source": [
    "comercios = actividades_economicas.drop_duplicates(['categoria'], keep='first')\n",
    "comercios.reset_index(drop=True, inplace=True)\n",
    "print(comercios['categoria'])"
   ]
  },
  {
   "cell_type": "markdown",
   "id": "57b42473",
   "metadata": {},
   "source": [
    "## 4. Guardar datos\n",
    "Una vez ya se saben las categorías que hay, se almacenarán los datos en un excel para facilitar el visionado y la manipulación de estos en un futuro"
   ]
  },
  {
   "cell_type": "code",
   "execution_count": 3,
   "id": "3b2e6230",
   "metadata": {},
   "outputs": [],
   "source": [
    "comercios.to_excel('Resultados/comercios.xlsx')"
   ]
  }
 ],
 "metadata": {
  "kernelspec": {
   "display_name": "Python 3 (ipykernel)",
   "language": "python",
   "name": "python3"
  },
  "language_info": {
   "codemirror_mode": {
    "name": "ipython",
    "version": 3
   },
   "file_extension": ".py",
   "mimetype": "text/x-python",
   "name": "python",
   "nbconvert_exporter": "python",
   "pygments_lexer": "ipython3",
   "version": "3.8.16"
  }
 },
 "nbformat": 4,
 "nbformat_minor": 5
}
