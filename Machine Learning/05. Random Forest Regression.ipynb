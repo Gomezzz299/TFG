{
 "cells": [
  {
   "cell_type": "markdown",
   "id": "8fccc00d",
   "metadata": {},
   "source": [
    "# Random Forest\n",
    "\n",
    "## 1. Importación de librerías, establecimiento de directorio de trabajo y carga de datos"
   ]
  },
  {
   "cell_type": "code",
   "execution_count": 3,
   "id": "9a6c6ec4",
   "metadata": {},
   "outputs": [],
   "source": [
    "# librerías básicas \n",
    "import os\n",
    "import pandas as pd  \n",
    "import numpy as np  \n",
    "import warnings  \n",
    "warnings.filterwarnings('ignore')\n",
    "  \n",
    "# para la construcción del modelo \n",
    "from sklearn.model_selection import train_test_split\n",
    "from sklearn.preprocessing import StandardScaler\n",
    "\n",
    "#algoritmo\n",
    "from sklearn.ensemble import RandomForestRegressor\n",
    "\n",
    "# para obtener métricas\n",
    "from sklearn.metrics import r2_score, mean_absolute_error, mean_squared_error\n",
    "from sklearn.model_selection import cross_val_score\n",
    "from sklearn.model_selection import GridSearchCV\n",
    "from sklearn.model_selection import RepeatedKFold\n",
    "\n",
    "# para guardar el modelo\n",
    "import pickle\n",
    "  \n",
    "# para visualización\n",
    "import seaborn as sns  \n",
    "import matplotlib.pyplot as plt  \n",
    "from mpl_toolkits.mplot3d import Axes3D  \n",
    "%matplotlib inline  \n",
    "\n",
    "os.chdir(\"C:/Users/aleja/OneDrive - Universidad Politécnica de Madrid/Universidad/Asignaturas/Cuarto/Trabajo de Fin de Grado\")"
   ]
  },
  {
   "cell_type": "code",
   "execution_count": 4,
   "id": "a5ba9f8e",
   "metadata": {},
   "outputs": [
    {
     "data": {
      "text/html": [
       "<div>\n",
       "<style scoped>\n",
       "    .dataframe tbody tr th:only-of-type {\n",
       "        vertical-align: middle;\n",
       "    }\n",
       "\n",
       "    .dataframe tbody tr th {\n",
       "        vertical-align: top;\n",
       "    }\n",
       "\n",
       "    .dataframe thead th {\n",
       "        text-align: right;\n",
       "    }\n",
       "</style>\n",
       "<table border=\"1\" class=\"dataframe\">\n",
       "  <thead>\n",
       "    <tr style=\"text-align: right;\">\n",
       "      <th></th>\n",
       "      <th>latitud</th>\n",
       "      <th>longitud</th>\n",
       "      <th>edad</th>\n",
       "      <th>calidad_vida</th>\n",
       "    </tr>\n",
       "  </thead>\n",
       "  <tbody>\n",
       "    <tr>\n",
       "      <th>0</th>\n",
       "      <td>41.621468</td>\n",
       "      <td>2.068474</td>\n",
       "      <td>11</td>\n",
       "      <td>52.885748</td>\n",
       "    </tr>\n",
       "    <tr>\n",
       "      <th>1</th>\n",
       "      <td>41.600270</td>\n",
       "      <td>2.085002</td>\n",
       "      <td>12</td>\n",
       "      <td>74.793875</td>\n",
       "    </tr>\n",
       "    <tr>\n",
       "      <th>2</th>\n",
       "      <td>41.616524</td>\n",
       "      <td>2.089927</td>\n",
       "      <td>12</td>\n",
       "      <td>79.858657</td>\n",
       "    </tr>\n",
       "    <tr>\n",
       "      <th>3</th>\n",
       "      <td>41.618820</td>\n",
       "      <td>2.089480</td>\n",
       "      <td>11</td>\n",
       "      <td>79.858657</td>\n",
       "    </tr>\n",
       "    <tr>\n",
       "      <th>4</th>\n",
       "      <td>41.618908</td>\n",
       "      <td>2.089475</td>\n",
       "      <td>12</td>\n",
       "      <td>79.858657</td>\n",
       "    </tr>\n",
       "  </tbody>\n",
       "</table>\n",
       "</div>"
      ],
      "text/plain": [
       "     latitud  longitud  edad  calidad_vida\n",
       "0  41.621468  2.068474    11     52.885748\n",
       "1  41.600270  2.085002    12     74.793875\n",
       "2  41.616524  2.089927    12     79.858657\n",
       "3  41.618820  2.089480    11     79.858657\n",
       "4  41.618908  2.089475    12     79.858657"
      ]
     },
     "execution_count": 4,
     "metadata": {},
     "output_type": "execute_result"
    }
   ],
   "source": [
    "accesos = pd.read_csv(\"Resultados/Accesos/Accesos_Calidad_Vida.csv\", index_col=\"Unnamed: 0\")\n",
    "accesos.head()"
   ]
  },
  {
   "cell_type": "markdown",
   "id": "26f467d5",
   "metadata": {},
   "source": [
    "## 2. Construcción de la matriz de características (X) y el vector variable dependiente (y)"
   ]
  },
  {
   "cell_type": "code",
   "execution_count": 5,
   "id": "091cdb9c",
   "metadata": {},
   "outputs": [],
   "source": [
    "X = accesos.iloc[:, :-1].values\n",
    "y = accesos.iloc[:, -1].values"
   ]
  },
  {
   "cell_type": "markdown",
   "id": "a0e6e764",
   "metadata": {},
   "source": [
    "## 3. División del dataset en set de entrenamiento y de test"
   ]
  },
  {
   "cell_type": "code",
   "execution_count": 6,
   "id": "31ac1139",
   "metadata": {},
   "outputs": [],
   "source": [
    "X_train, X_test, y_train, y_test = train_test_split(X, y, test_size=0.2, random_state=1)"
   ]
  },
  {
   "cell_type": "markdown",
   "id": "7f82d46b",
   "metadata": {},
   "source": [
    "## 4. Feature scaling of X (rango: -3 a 3)"
   ]
  },
  {
   "cell_type": "code",
   "execution_count": 7,
   "id": "e1273ad5",
   "metadata": {},
   "outputs": [],
   "source": [
    "sc = StandardScaler()\n",
    "X_train = sc.fit_transform(X_train)\n",
    "X_test = sc.transform(X_test)"
   ]
  },
  {
   "cell_type": "markdown",
   "id": "39eaf209",
   "metadata": {},
   "source": [
    "## 5. Construcción y entrenamiento del modelo de regresión sobre el set de entrenamiento"
   ]
  },
  {
   "cell_type": "code",
   "execution_count": 8,
   "id": "a502d979",
   "metadata": {},
   "outputs": [
    {
     "data": {
      "text/plain": [
       "RandomForestRegressor(max_depth=7, max_features='sqrt', n_estimators=700,\n",
       "                      random_state=18)"
      ]
     },
     "execution_count": 8,
     "metadata": {},
     "output_type": "execute_result"
    }
   ],
   "source": [
    "regressor = RandomForestRegressor(max_depth=7, max_features='sqrt', n_estimators=700, random_state=18) # creamos el modelo\n",
    "regressor.fit(X_train, y_train) # entrenamos el modelo con los datasets de entrenamiento"
   ]
  },
  {
   "cell_type": "markdown",
   "id": "142851d3",
   "metadata": {},
   "source": [
    "## 6. Predicción de resultados del set de test"
   ]
  },
  {
   "cell_type": "code",
   "execution_count": 9,
   "id": "5e47acbf",
   "metadata": {},
   "outputs": [],
   "source": [
    "y_pred = regressor.predict(X_test)"
   ]
  },
  {
   "cell_type": "markdown",
   "id": "75885229",
   "metadata": {},
   "source": [
    "## 7.  Métricas de rendimiento\n",
    "Comparamos el set de test con el predicho"
   ]
  },
  {
   "cell_type": "code",
   "execution_count": 10,
   "id": "b1d56999",
   "metadata": {},
   "outputs": [
    {
     "name": "stdout",
     "output_type": "stream",
     "text": [
      "R2score: 0.9728916262775444\n",
      "MAE: \t 1.797495251000816\n",
      "MSE: \t 11.099516889075199\n",
      "RMSE:  3.331593746103387\n"
     ]
    }
   ],
   "source": [
    "# R2score\n",
    "print('R2score:', r2_score(y_test, y_pred))\n",
    "\n",
    "# Mean Absolute Error\n",
    "print('MAE: \\t', mean_absolute_error(y_test, y_pred))\n",
    "\n",
    "# Mean Squared Error\n",
    "print('MSE: \\t', mean_squared_error(y_test, y_pred))\n",
    "\n",
    "# Root Mean Squared Error\n",
    "print(\"RMSE: \", mean_squared_error(y_test, y_pred, squared=False))"
   ]
  },
  {
   "cell_type": "markdown",
   "id": "d0bbbcf6",
   "metadata": {},
   "source": [
    "### 7.1. Para ganar más intuición"
   ]
  },
  {
   "cell_type": "code",
   "execution_count": 9,
   "id": "189ede12",
   "metadata": {},
   "outputs": [
    {
     "name": "stdout",
     "output_type": "stream",
     "text": [
      "[[45.74 34.51]\n",
      " [79.83 79.86]\n",
      " [79.83 79.86]\n",
      " ...\n",
      " [66.5  65.14]\n",
      " [79.83 79.86]\n",
      " [79.83 79.86]]\n"
     ]
    }
   ],
   "source": [
    "np.set_printoptions(precision=2) # redondea a dos decimales\n",
    "\n",
    "print(np.concatenate((y_pred.reshape(len(y_pred), 1), y_test.reshape(len(y_test), 1)), 1))\n",
    "\n",
    "# concatenamos el set predicho y el de test, así podemos ver mejor las diferencias entre los dos"
   ]
  },
  {
   "cell_type": "code",
   "execution_count": 23,
   "id": "3a7745e7",
   "metadata": {},
   "outputs": [
    {
     "ename": "ValueError",
     "evalue": "The truth value of an array with more than one element is ambiguous. Use a.any() or a.all()",
     "output_type": "error",
     "traceback": [
      "\u001b[1;31m---------------------------------------------------------------------------\u001b[0m",
      "\u001b[1;31mValueError\u001b[0m                                Traceback (most recent call last)",
      "Input \u001b[1;32mIn [23]\u001b[0m, in \u001b[0;36m<cell line: 2>\u001b[1;34m()\u001b[0m\n\u001b[0;32m      1\u001b[0m \u001b[38;5;66;03m#higher resolution graph\u001b[39;00m\n\u001b[1;32m----> 2\u001b[0m X_grid \u001b[38;5;241m=\u001b[39m np\u001b[38;5;241m.\u001b[39marange(\u001b[38;5;28;43mmin\u001b[39;49m\u001b[43m(\u001b[49m\u001b[43mX_train\u001b[49m\u001b[43m)\u001b[49m,\u001b[38;5;28mmax\u001b[39m(X_train),\u001b[38;5;241m0.01\u001b[39m)\n\u001b[0;32m      3\u001b[0m X_grid \u001b[38;5;241m=\u001b[39m X_grid\u001b[38;5;241m.\u001b[39mreshape(\u001b[38;5;28mlen\u001b[39m(X_grid),\u001b[38;5;241m1\u001b[39m) \n\u001b[0;32m      5\u001b[0m plt\u001b[38;5;241m.\u001b[39mscatter(X_train,y_train, color\u001b[38;5;241m=\u001b[39m\u001b[38;5;124m'\u001b[39m\u001b[38;5;124mred\u001b[39m\u001b[38;5;124m'\u001b[39m) \u001b[38;5;66;03m#plotting real points\u001b[39;00m\n",
      "\u001b[1;31mValueError\u001b[0m: The truth value of an array with more than one element is ambiguous. Use a.any() or a.all()"
     ]
    }
   ],
   "source": [
    "#higher resolution graph\n",
    "X_grid = np.arange(min(X_train),max(X_train),0.01)\n",
    "X_grid = X_grid.reshape(len(X_grid),1) \n",
    " \n",
    "plt.scatter(X_train,y_train, color='red') #plotting real points\n",
    "plt.plot(X_grid, regressor.predict(X_grid),color='blue') #plotting for predict points\n",
    " \n",
    "plt.title(\"Truth or Bluff(Random Forest - Smooth)\")\n",
    "plt.xlabel('Position level')\n",
    "plt.ylabel('Salary')\n",
    "plt.show()"
   ]
  },
  {
   "cell_type": "markdown",
   "id": "677fe3e5",
   "metadata": {},
   "source": [
    "### 7.2 Más métricas de rendimiento"
   ]
  },
  {
   "cell_type": "code",
   "execution_count": 10,
   "id": "8d057f18",
   "metadata": {},
   "outputs": [
    {
     "name": "stdout",
     "output_type": "stream",
     "text": [
      "Media: 0.97\n",
      "Desviación estándar: 0.00\n"
     ]
    }
   ],
   "source": [
    "accuracies = cross_val_score(estimator = regressor, X = X_train, y = y_train, cv = 10)\n",
    "\n",
    "print(\"Media: {:.2f}\".format(accuracies.mean()))\n",
    "print(\"Desviación estándar: {:.2f}\".format(accuracies.std()))"
   ]
  },
  {
   "cell_type": "markdown",
   "id": "d38eb2de",
   "metadata": {},
   "source": [
    "Vemos que la precision y los errores no son muy buenos, por lo que probaremos otros parámetros para ver si ofrece alguno más óptimo\n",
    "### 7.3 Grid Search"
   ]
  },
  {
   "cell_type": "code",
   "execution_count": 15,
   "id": "a77e7615",
   "metadata": {},
   "outputs": [
    {
     "name": "stdout",
     "output_type": "stream",
     "text": [
      "Best r2: 97.43 %\n",
      "Accuracy: 97.46 %\n",
      "Best Parameters: {'max_depth': 7, 'max_features': 'sqrt', 'n_estimators': 700, 'random_state': 18}\n"
     ]
    }
   ],
   "source": [
    "parameters = {\n",
    "    'n_estimators': [500, 600, 700],\n",
    "    'max_features': ['sqrt','log2'],\n",
    "    'max_depth' : [5, 6, 7],\n",
    "    'random_state' : [18]\n",
    "}\n",
    "\n",
    "cv = RepeatedKFold(n_splits=10, n_repeats=3, random_state=1)\n",
    "\n",
    "grid_search = GridSearchCV(estimator = regressor,\n",
    "                           param_grid = parameters,\n",
    "                           scoring = 'r2',\n",
    "                           cv = cv,\n",
    "                           n_jobs = -1)\n",
    "\n",
    "grid_search.fit(X_train, y_train)\n",
    "\n",
    "best_accuracy = grid_search.best_score_\n",
    "best_parameters = grid_search.best_params_\n",
    "\n",
    "print(\"Best r2: {:.2f} %\".format(best_accuracy*100))\n",
    "print(\"Accuracy: {:.2f} %\".format(accuracies.mean()*100))\n",
    "print(\"Best Parameters:\", best_parameters)"
   ]
  },
  {
   "cell_type": "markdown",
   "id": "ae30be35",
   "metadata": {},
   "source": [
    "## 8. Guardar el mejor modelo"
   ]
  },
  {
   "cell_type": "code",
   "execution_count": null,
   "id": "497f055c",
   "metadata": {},
   "outputs": [],
   "source": [
    "with open('Modelos/Random_Forest.pkl','wb') as f:\n",
    "    pickle.dump(regressor,f)"
   ]
  },
  {
   "cell_type": "markdown",
   "id": "240cd2f4",
   "metadata": {},
   "source": [
    "## 9. Ejemplo de predicción"
   ]
  },
  {
   "cell_type": "code",
   "execution_count": 26,
   "id": "0695678e",
   "metadata": {},
   "outputs": [
    {
     "name": "stdout",
     "output_type": "stream",
     "text": [
      "[14.25]\n"
     ]
    }
   ],
   "source": [
    "print(regressor.predict(sc.transform([['425060.955125', '4.606138e+06', '22']]))) "
   ]
  },
  {
   "cell_type": "code",
   "execution_count": null,
   "id": "1822b69d",
   "metadata": {},
   "outputs": [],
   "source": []
  }
 ],
 "metadata": {
  "kernelspec": {
   "display_name": "Python 3 (ipykernel)",
   "language": "python",
   "name": "python3"
  },
  "language_info": {
   "codemirror_mode": {
    "name": "ipython",
    "version": 3
   },
   "file_extension": ".py",
   "mimetype": "text/x-python",
   "name": "python",
   "nbconvert_exporter": "python",
   "pygments_lexer": "ipython3",
   "version": "3.8.16"
  }
 },
 "nbformat": 4,
 "nbformat_minor": 5
}
