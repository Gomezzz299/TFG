{
 "cells": [
  {
   "cell_type": "markdown",
   "id": "8fccc00d",
   "metadata": {},
   "source": [
    "# Ridge Regressor\n",
    "\n",
    "## 1. Importación de librerías, establecimiento de directorio de trabajo y carga de datos"
   ]
  },
  {
   "cell_type": "code",
   "execution_count": 1,
   "id": "9a6c6ec4",
   "metadata": {},
   "outputs": [],
   "source": [
    "# librerias principales para uso y visualización de datos\n",
    "import os\n",
    "import numpy as np\n",
    "import pandas as pd\n",
    "import warnings  \n",
    "warnings.filterwarnings('ignore')\n",
    "\n",
    "# dividir datos para modelo\n",
    "from sklearn.model_selection import train_test_split\n",
    "from sklearn.preprocessing import StandardScaler\n",
    "\n",
    "# algoritmo\n",
    "from sklearn.linear_model import Ridge\n",
    "\n",
    "# metricas de rendimiento\n",
    "from sklearn.metrics import r2_score, mean_absolute_error, mean_squared_error\n",
    "from sklearn.model_selection import cross_val_score\n",
    "from sklearn.model_selection import GridSearchCV\n",
    "from sklearn.model_selection import RepeatedKFold\n",
    "\n",
    "# guardar el modelo\n",
    "import pickle\n",
    "\n",
    "# para visualización\n",
    "import seaborn as sns  \n",
    "import matplotlib.pyplot as plt  \n",
    "from mpl_toolkits.mplot3d import Axes3D  \n",
    "%matplotlib inline  \n",
    "\n",
    "os.chdir(\"C:/Users/aleja/OneDrive - Universidad Politécnica de Madrid/Universidad/Asignaturas/Cuarto/Trabajo de Fin de Grado\")"
   ]
  },
  {
   "cell_type": "code",
   "execution_count": 2,
   "id": "a5ba9f8e",
   "metadata": {},
   "outputs": [
    {
     "data": {
      "text/html": [
       "<div>\n",
       "<style scoped>\n",
       "    .dataframe tbody tr th:only-of-type {\n",
       "        vertical-align: middle;\n",
       "    }\n",
       "\n",
       "    .dataframe tbody tr th {\n",
       "        vertical-align: top;\n",
       "    }\n",
       "\n",
       "    .dataframe thead th {\n",
       "        text-align: right;\n",
       "    }\n",
       "</style>\n",
       "<table border=\"1\" class=\"dataframe\">\n",
       "  <thead>\n",
       "    <tr style=\"text-align: right;\">\n",
       "      <th></th>\n",
       "      <th>latitud</th>\n",
       "      <th>longitud</th>\n",
       "      <th>edad</th>\n",
       "      <th>calidad_vida</th>\n",
       "    </tr>\n",
       "  </thead>\n",
       "  <tbody>\n",
       "    <tr>\n",
       "      <th>0</th>\n",
       "      <td>41.621468</td>\n",
       "      <td>2.068474</td>\n",
       "      <td>11</td>\n",
       "      <td>52.885748</td>\n",
       "    </tr>\n",
       "    <tr>\n",
       "      <th>1</th>\n",
       "      <td>41.600270</td>\n",
       "      <td>2.085002</td>\n",
       "      <td>12</td>\n",
       "      <td>74.793875</td>\n",
       "    </tr>\n",
       "    <tr>\n",
       "      <th>2</th>\n",
       "      <td>41.616524</td>\n",
       "      <td>2.089927</td>\n",
       "      <td>12</td>\n",
       "      <td>79.858657</td>\n",
       "    </tr>\n",
       "    <tr>\n",
       "      <th>3</th>\n",
       "      <td>41.618820</td>\n",
       "      <td>2.089480</td>\n",
       "      <td>11</td>\n",
       "      <td>79.858657</td>\n",
       "    </tr>\n",
       "    <tr>\n",
       "      <th>4</th>\n",
       "      <td>41.618908</td>\n",
       "      <td>2.089475</td>\n",
       "      <td>12</td>\n",
       "      <td>79.858657</td>\n",
       "    </tr>\n",
       "  </tbody>\n",
       "</table>\n",
       "</div>"
      ],
      "text/plain": [
       "     latitud  longitud  edad  calidad_vida\n",
       "0  41.621468  2.068474    11     52.885748\n",
       "1  41.600270  2.085002    12     74.793875\n",
       "2  41.616524  2.089927    12     79.858657\n",
       "3  41.618820  2.089480    11     79.858657\n",
       "4  41.618908  2.089475    12     79.858657"
      ]
     },
     "execution_count": 2,
     "metadata": {},
     "output_type": "execute_result"
    }
   ],
   "source": [
    "accesos = pd.read_csv(\"Resultados/Accesos_Calidad_Vida.csv\", index_col=\"Unnamed: 0\")\n",
    "accesos.head()"
   ]
  },
  {
   "cell_type": "markdown",
   "id": "26f467d5",
   "metadata": {},
   "source": [
    "## 2. Construcción de la matriz de características (X) y el vector variable dependiente (y)"
   ]
  },
  {
   "cell_type": "code",
   "execution_count": 3,
   "id": "091cdb9c",
   "metadata": {},
   "outputs": [],
   "source": [
    "X = accesos.iloc[:, :-1].values\n",
    "y = accesos.iloc[:, -1].values"
   ]
  },
  {
   "cell_type": "markdown",
   "id": "a0e6e764",
   "metadata": {},
   "source": [
    "## 3. División del dataset en set de entrenamiento y de test"
   ]
  },
  {
   "cell_type": "code",
   "execution_count": 4,
   "id": "31ac1139",
   "metadata": {},
   "outputs": [],
   "source": [
    "X_train, X_test, y_train, y_test = train_test_split(X, y, test_size=0.2, random_state=0)"
   ]
  },
  {
   "cell_type": "markdown",
   "id": "7f82d46b",
   "metadata": {},
   "source": [
    "## 4. Feature scaling of X (rango: -3 a 3)"
   ]
  },
  {
   "cell_type": "code",
   "execution_count": 5,
   "id": "e1273ad5",
   "metadata": {},
   "outputs": [],
   "source": [
    "sc = StandardScaler()\n",
    "X_train = sc.fit_transform(X_train)\n",
    "X_test = sc.transform(X_test)"
   ]
  },
  {
   "cell_type": "markdown",
   "id": "39eaf209",
   "metadata": {},
   "source": [
    "## 5. Construcción y entrenamiento del modelo de regresión sobre el set de entrenamiento"
   ]
  },
  {
   "cell_type": "code",
   "execution_count": 6,
   "id": "4538b575",
   "metadata": {},
   "outputs": [
    {
     "data": {
      "text/plain": [
       "Ridge()"
      ]
     },
     "execution_count": 6,
     "metadata": {},
     "output_type": "execute_result"
    }
   ],
   "source": [
    "regressor = Ridge()\n",
    "regressor.fit(X_train, y_train)"
   ]
  },
  {
   "cell_type": "markdown",
   "id": "142851d3",
   "metadata": {},
   "source": [
    "## 6. Predicción de resultados del set de test"
   ]
  },
  {
   "cell_type": "code",
   "execution_count": 7,
   "id": "5e47acbf",
   "metadata": {},
   "outputs": [],
   "source": [
    "y_pred = regressor.predict(X_test)"
   ]
  },
  {
   "cell_type": "markdown",
   "id": "75885229",
   "metadata": {},
   "source": [
    "## 7.  Métricas de rendimiento\n",
    "Comparamos el set de test con el predicho"
   ]
  },
  {
   "cell_type": "code",
   "execution_count": 8,
   "id": "b1d56999",
   "metadata": {},
   "outputs": [
    {
     "name": "stdout",
     "output_type": "stream",
     "text": [
      "R2score: 0.6447531391961585\n",
      "MAE: \t 8.44677689264021\n",
      "MSE: \t 140.89567646731777\n",
      "RMSE:  11.869948461021968\n"
     ]
    }
   ],
   "source": [
    "# R2score\n",
    "print('R2score:', r2_score(y_test, y_pred))\n",
    "\n",
    "# Mean Absolute Error\n",
    "print('MAE: \\t', mean_absolute_error(y_test, y_pred))\n",
    "\n",
    "# Mean Squared Error\n",
    "print('MSE: \\t', mean_squared_error(y_test, y_pred))\n",
    "\n",
    "# Root Mean Squared Error\n",
    "print(\"RMSE: \", mean_squared_error(y_test, y_pred, squared=False))"
   ]
  },
  {
   "cell_type": "markdown",
   "id": "d0bbbcf6",
   "metadata": {},
   "source": [
    "### 7.1. Para ganar más intuición"
   ]
  },
  {
   "cell_type": "code",
   "execution_count": 9,
   "id": "189ede12",
   "metadata": {},
   "outputs": [
    {
     "name": "stdout",
     "output_type": "stream",
     "text": [
      "[[86.01 79.86]\n",
      " [35.25 45.23]\n",
      " [38.99 34.51]\n",
      " ...\n",
      " [45.63 34.51]\n",
      " [52.13 52.89]\n",
      " [58.18 65.14]]\n"
     ]
    }
   ],
   "source": [
    "np.set_printoptions(precision=2) # redondea a dos decimales\n",
    "\n",
    "print(np.concatenate((y_pred.reshape(len(y_pred), 1), y_test.reshape(len(y_test), 1)), 1))"
   ]
  },
  {
   "cell_type": "markdown",
   "id": "12cb1a22",
   "metadata": {},
   "source": [
    "### 7.2 Más métricas de rendimiento"
   ]
  },
  {
   "cell_type": "code",
   "execution_count": 10,
   "id": "b80d0f7e",
   "metadata": {},
   "outputs": [
    {
     "name": "stdout",
     "output_type": "stream",
     "text": [
      "Accuracy: 66.46 %\n",
      "Standard Deviation: 1.53 %\n"
     ]
    }
   ],
   "source": [
    "accuracies = cross_val_score(estimator = regressor, X = X_train, y = y_train, cv = 10)\n",
    "\n",
    "print(\"Accuracy: {:.2f} %\".format(accuracies.mean()*100))\n",
    "print(\"Standard Deviation: {:.2f} %\".format(accuracies.std()*100))"
   ]
  },
  {
   "cell_type": "markdown",
   "id": "1a8853a2",
   "metadata": {},
   "source": [
    "Vemos que la precision y los errores no son muy buenos, por lo que probaremos otros parámetros para ver si ofrece alguno más óptimo\n",
    "### 7.3 Grid Search"
   ]
  },
  {
   "cell_type": "code",
   "execution_count": 11,
   "id": "26faee90",
   "metadata": {},
   "outputs": [
    {
     "name": "stdout",
     "output_type": "stream",
     "text": [
      "Best Accuracy: 66.48 %\n",
      "Accuracy: 66.46 %\n",
      "Best Parameters: {'alpha': 0.1, 'fit_intercept': True, 'normalize': False, 'solver': 'sag'}\n"
     ]
    },
    {
     "name": "stderr",
     "output_type": "stream",
     "text": [
      "C:\\Users\\aleja\\anaconda3\\lib\\site-packages\\sklearn\\model_selection\\_validation.py:372: FitFailedWarning: \n",
      "960 fits failed out of a total of 7680.\n",
      "The score on these train-test partitions for these parameters will be set to nan.\n",
      "If these failures are not expected, you can try to debug them by setting error_score='raise'.\n",
      "\n",
      "Below are more details about the failures:\n",
      "--------------------------------------------------------------------------------\n",
      "960 fits failed with the following error:\n",
      "Traceback (most recent call last):\n",
      "  File \"C:\\Users\\aleja\\anaconda3\\lib\\site-packages\\sklearn\\model_selection\\_validation.py\", line 680, in _fit_and_score\n",
      "    estimator.fit(X_train, y_train, **fit_params)\n",
      "  File \"C:\\Users\\aleja\\anaconda3\\lib\\site-packages\\sklearn\\linear_model\\_ridge.py\", line 1011, in fit\n",
      "    return super().fit(X, y, sample_weight=sample_weight)\n",
      "  File \"C:\\Users\\aleja\\anaconda3\\lib\\site-packages\\sklearn\\linear_model\\_ridge.py\", line 705, in fit\n",
      "    raise ValueError(\n",
      "ValueError: 'lbfgs' solver can be used only when positive=True. Please use another solver.\n",
      "\n",
      "  warnings.warn(some_fits_failed_message, FitFailedWarning)\n",
      "C:\\Users\\aleja\\anaconda3\\lib\\site-packages\\sklearn\\model_selection\\_search.py:969: UserWarning: One or more of the test scores are non-finite: [  0.66   0.66   0.66   0.66   0.66   0.66   0.66    nan   0.66   0.66\n",
      "   0.66   0.66   0.66   0.66   0.66    nan -10.39 -10.39 -10.39 -10.39\n",
      " -10.39 -10.39 -10.39    nan -10.39 -10.39 -10.39 -10.39 -10.39 -10.39\n",
      " -10.39    nan   0.66   0.66   0.66   0.66   0.66   0.66   0.66    nan\n",
      "   0.66   0.66   0.66   0.66   0.66   0.66   0.66    nan -10.39 -10.39\n",
      " -10.39 -10.39 -10.39 -10.39 -10.39    nan -10.39 -10.39 -10.39 -10.39\n",
      " -10.39 -10.39 -10.39    nan   0.66   0.66   0.66   0.66   0.66   0.66\n",
      "   0.66    nan   0.66   0.66   0.66   0.66   0.66   0.66   0.66    nan\n",
      " -10.39 -10.39 -10.39 -10.39 -10.39 -10.39 -10.39    nan -10.39 -10.39\n",
      " -10.39 -10.39 -10.39 -10.39 -10.39    nan   0.66   0.66   0.66   0.66\n",
      "   0.66   0.66   0.66    nan   0.66   0.66   0.66   0.66   0.66   0.66\n",
      "   0.66    nan -10.39 -10.39 -10.39 -10.39 -10.39 -10.39 -10.39    nan\n",
      " -10.39 -10.39 -10.39 -10.39 -10.39 -10.39 -10.39    nan   0.66   0.66\n",
      "   0.66   0.66   0.66   0.66   0.66    nan   0.66   0.66   0.66   0.66\n",
      "   0.66   0.66   0.66    nan -10.39 -10.39 -10.39 -10.39 -10.39 -10.39\n",
      " -10.39    nan -10.39 -10.39 -10.39 -10.39 -10.39 -10.39 -10.39    nan\n",
      "   0.51   0.51   0.51   0.51   0.51   0.51   0.51    nan   0.66   0.66\n",
      "   0.66   0.66   0.66   0.66   0.66    nan -10.39 -10.39 -10.39 -10.39\n",
      " -10.39 -10.39 -10.39    nan -10.39 -10.39 -10.39 -10.39 -10.39 -10.39\n",
      " -10.39    nan   0.12   0.12   0.12   0.12   0.12   0.12   0.12    nan\n",
      "   0.66   0.66   0.66   0.66   0.66   0.66   0.66    nan -10.39 -10.39\n",
      " -10.39 -10.39 -10.39 -10.39 -10.39    nan -10.39 -10.39 -10.39 -10.39\n",
      " -10.39 -10.39 -10.39    nan   0.01   0.01   0.01   0.01   0.01   0.01\n",
      "   0.01    nan   0.66   0.66   0.66   0.66   0.66   0.66   0.66    nan\n",
      " -10.39 -10.39 -10.39 -10.39 -10.39 -10.39 -10.39    nan -10.39 -10.39\n",
      " -10.39 -10.39 -10.39 -10.39 -10.39    nan]\n",
      "  warnings.warn(\n",
      "C:\\Users\\aleja\\anaconda3\\lib\\site-packages\\sklearn\\linear_model\\_base.py:148: FutureWarning: 'normalize' was deprecated in version 1.0 and will be removed in 1.2. Please leave the normalize parameter to its default value to silence this warning. The default behavior of this estimator is to not do any normalization. If normalization is needed please use sklearn.preprocessing.StandardScaler instead.\n",
      "  warnings.warn(\n"
     ]
    }
   ],
   "source": [
    "parameters = {\n",
    "    'solver':['auto', 'svd', 'cholesky', 'lsqr', 'sparse_cg', 'sag', 'saga', 'lbfgs'],\n",
    "    'alpha': [1e-5, 1e-4, 1e-3, 1e-2, 1e-1, 1, 10, 100],\n",
    "    'fit_intercept':[True, False],\n",
    "    'normalize':[True, False]\n",
    "}\n",
    "\n",
    "cv = RepeatedKFold(n_splits=10, n_repeats=3, random_state=1)\n",
    "\n",
    "grid_search = GridSearchCV(estimator = regressor,\n",
    "                           param_grid = parameters,\n",
    "                           # scoring = 'neg_mean_absolute_error',\n",
    "                           cv = cv,\n",
    "                           n_jobs = -1)\n",
    "\n",
    "grid_search.fit(X_train, y_train)\n",
    "\n",
    "best_accuracy = grid_search.best_score_\n",
    "best_parameters = grid_search.best_params_\n",
    "\n",
    "print(\"Best Accuracy: {:.2f} %\".format(best_accuracy*100))\n",
    "print(\"Best Parameters:\", best_parameters)"
   ]
  },
  {
   "cell_type": "markdown",
   "id": "8d93095a",
   "metadata": {},
   "source": [
    "## 8. Guardar el mejor modelo"
   ]
  },
  {
   "cell_type": "code",
   "execution_count": null,
   "id": "5a75bb86",
   "metadata": {},
   "outputs": [],
   "source": [
    "with open('Modelos/Ridge_Regressor.pkl','wb') as f:\n",
    "    pickle.dump(grid_search,f)"
   ]
  },
  {
   "cell_type": "markdown",
   "id": "240cd2f4",
   "metadata": {},
   "source": [
    "## 9. Ejemplo de predicción"
   ]
  },
  {
   "cell_type": "code",
   "execution_count": 12,
   "id": "0695678e",
   "metadata": {},
   "outputs": [
    {
     "name": "stdout",
     "output_type": "stream",
     "text": [
      "[6.32e+09]\n"
     ]
    }
   ],
   "source": [
    "print(regressor.predict(sc.transform([['425060.955125', '4.606138e+06', '22']]))) "
   ]
  },
  {
   "cell_type": "markdown",
   "id": "6a833ce0",
   "metadata": {},
   "source": [
    "## 9. Obtener los coeficientes de la regresión lineal múltiple"
   ]
  },
  {
   "cell_type": "code",
   "execution_count": 13,
   "id": "88d09d93",
   "metadata": {},
   "outputs": [
    {
     "name": "stdout",
     "output_type": "stream",
     "text": [
      "[-4.79 15.19 -1.02]\n",
      "67.02454557070422\n"
     ]
    }
   ],
   "source": [
    "print(regressor.coef_)\n",
    "print(regressor.intercept_)"
   ]
  }
 ],
 "metadata": {
  "kernelspec": {
   "display_name": "Python 3 (ipykernel)",
   "language": "python",
   "name": "python3"
  },
  "language_info": {
   "codemirror_mode": {
    "name": "ipython",
    "version": 3
   },
   "file_extension": ".py",
   "mimetype": "text/x-python",
   "name": "python",
   "nbconvert_exporter": "python",
   "pygments_lexer": "ipython3",
   "version": "3.8.16"
  }
 },
 "nbformat": 4,
 "nbformat_minor": 5
}
