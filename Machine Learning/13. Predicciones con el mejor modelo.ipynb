{
 "cells": [
  {
   "cell_type": "markdown",
   "id": "b7726877",
   "metadata": {},
   "source": [
    "# Predicciones utilizando el mejor modelo\n",
    "## 1. Importación de librerías, establecimiento de directorio de trabajo y carga de datos"
   ]
  },
  {
   "cell_type": "code",
   "execution_count": 1,
   "id": "a452f460",
   "metadata": {},
   "outputs": [],
   "source": [
    "# librerias principales para uso y visualización de datos\n",
    "import os\n",
    "import numpy as np\n",
    "import pandas as pd\n",
    "import geopandas as gpd\n",
    "import warnings  \n",
    "warnings.filterwarnings('ignore')\n",
    "\n",
    "# normalizar\n",
    "from sklearn.preprocessing import StandardScaler\n",
    "\n",
    "# cargar el modelo\n",
    "import pickle\n",
    "\n",
    "os.chdir(\"C:/Users/aleja/OneDrive - Universidad Politécnica de Madrid/Universidad/Asignaturas/Cuarto/Trabajo de Fin de Grado\")"
   ]
  },
  {
   "cell_type": "code",
   "execution_count": 2,
   "id": "95b357a7",
   "metadata": {},
   "outputs": [],
   "source": [
    "# datos csv\n",
    "accesos = pd.read_csv(\"Resultados/Accesos_Calidad_Vida.csv\", index_col=\"Unnamed: 0\")\n",
    "\n",
    "# modelo\n",
    "regressor = pickle.load(open('Modelos/XGBoost.pkl', 'rb'))"
   ]
  },
  {
   "cell_type": "markdown",
   "id": "8ad8659a",
   "metadata": {},
   "source": [
    "## 2. Construcción de la matriz de características (X) y el vector variable dependiente (y)"
   ]
  },
  {
   "cell_type": "code",
   "execution_count": 3,
   "id": "20087c4b",
   "metadata": {},
   "outputs": [],
   "source": [
    "X = accesos.iloc[:, :-1].values\n",
    "y = accesos.iloc[:, -1].values"
   ]
  },
  {
   "cell_type": "markdown",
   "id": "2d33e714",
   "metadata": {},
   "source": [
    "## 3. Estandarizar X"
   ]
  },
  {
   "cell_type": "code",
   "execution_count": 4,
   "id": "aaf87b60",
   "metadata": {},
   "outputs": [],
   "source": [
    "sc = StandardScaler()\n",
    "X = sc.fit_transform(X)"
   ]
  },
  {
   "cell_type": "markdown",
   "id": "1534a606",
   "metadata": {},
   "source": [
    "## 4. Predecir valores"
   ]
  },
  {
   "cell_type": "code",
   "execution_count": 5,
   "id": "2a6a06cc",
   "metadata": {},
   "outputs": [],
   "source": [
    "y_pred = regressor.predict(X)"
   ]
  },
  {
   "cell_type": "markdown",
   "id": "3e4635b9",
   "metadata": {},
   "source": [
    "## 5. Cálculo de métricas de la predicción"
   ]
  },
  {
   "cell_type": "code",
   "execution_count": 6,
   "id": "57c705d7",
   "metadata": {},
   "outputs": [
    {
     "name": "stdout",
     "output_type": "stream",
     "text": [
      "R2score: 0.996781449645687\n",
      "MAE: \t 0.2790320353591686\n",
      "MSE: \t 2.42971607534776\n",
      "RMSE:  1.558754655277013\n"
     ]
    }
   ],
   "source": [
    "from sklearn.metrics import r2_score, mean_absolute_error, mean_squared_error\n",
    "\n",
    "# R2score\n",
    "print('R2score:', r2_score(y, y_pred))\n",
    "\n",
    "# Mean Absolute Error\n",
    "print('MAE: \\t', mean_absolute_error(y, y_pred))\n",
    "\n",
    "# Mean Squared Error\n",
    "print('MSE: \\t', mean_squared_error(y, y_pred))\n",
    "\n",
    "# Root Mean Squared Error\n",
    "print(\"RMSE: \", mean_squared_error(y, y_pred, squared=False))"
   ]
  },
  {
   "cell_type": "markdown",
   "id": "c03e8986",
   "metadata": {},
   "source": [
    "## 6. Guardar resultados\n",
    "### 6.1. En Dataframe"
   ]
  },
  {
   "cell_type": "code",
   "execution_count": 7,
   "id": "b1f90bb5",
   "metadata": {},
   "outputs": [
    {
     "data": {
      "text/html": [
       "<div>\n",
       "<style scoped>\n",
       "    .dataframe tbody tr th:only-of-type {\n",
       "        vertical-align: middle;\n",
       "    }\n",
       "\n",
       "    .dataframe tbody tr th {\n",
       "        vertical-align: top;\n",
       "    }\n",
       "\n",
       "    .dataframe thead th {\n",
       "        text-align: right;\n",
       "    }\n",
       "</style>\n",
       "<table border=\"1\" class=\"dataframe\">\n",
       "  <thead>\n",
       "    <tr style=\"text-align: right;\">\n",
       "      <th></th>\n",
       "      <th>latitud</th>\n",
       "      <th>longitud</th>\n",
       "      <th>edad</th>\n",
       "      <th>calidad_vida</th>\n",
       "    </tr>\n",
       "  </thead>\n",
       "  <tbody>\n",
       "    <tr>\n",
       "      <th>0</th>\n",
       "      <td>-1.149122</td>\n",
       "      <td>1.739274</td>\n",
       "      <td>-1.362061</td>\n",
       "      <td>22.693689</td>\n",
       "    </tr>\n",
       "    <tr>\n",
       "      <th>1</th>\n",
       "      <td>1.963275</td>\n",
       "      <td>-1.949366</td>\n",
       "      <td>-1.317309</td>\n",
       "      <td>21.209745</td>\n",
       "    </tr>\n",
       "    <tr>\n",
       "      <th>2</th>\n",
       "      <td>1.965770</td>\n",
       "      <td>-1.842890</td>\n",
       "      <td>-1.272556</td>\n",
       "      <td>21.516243</td>\n",
       "    </tr>\n",
       "    <tr>\n",
       "      <th>3</th>\n",
       "      <td>1.774915</td>\n",
       "      <td>-1.837662</td>\n",
       "      <td>-1.317309</td>\n",
       "      <td>12.038342</td>\n",
       "    </tr>\n",
       "    <tr>\n",
       "      <th>4</th>\n",
       "      <td>1.904349</td>\n",
       "      <td>-1.855992</td>\n",
       "      <td>-1.183051</td>\n",
       "      <td>20.745489</td>\n",
       "    </tr>\n",
       "  </tbody>\n",
       "</table>\n",
       "</div>"
      ],
      "text/plain": [
       "    latitud  longitud      edad  calidad_vida\n",
       "0 -1.149122  1.739274 -1.362061     22.693689\n",
       "1  1.963275 -1.949366 -1.317309     21.209745\n",
       "2  1.965770 -1.842890 -1.272556     21.516243\n",
       "3  1.774915 -1.837662 -1.317309     12.038342\n",
       "4  1.904349 -1.855992 -1.183051     20.745489"
      ]
     },
     "execution_count": 7,
     "metadata": {},
     "output_type": "execute_result"
    }
   ],
   "source": [
    "X_df = pd.DataFrame(X)\n",
    "y_df = pd.DataFrame(y_pred)\n",
    "df = pd.concat([X_df, y_df], axis=1)\n",
    "df.set_axis(['latitud', 'longitud', 'edad', 'calidad_vida'], axis='columns', inplace=True)\n",
    "df.head()"
   ]
  },
  {
   "cell_type": "code",
   "execution_count": 8,
   "id": "0d5c6a9b",
   "metadata": {},
   "outputs": [],
   "source": [
    "df.to_csv(\"Predicciones/XGBoost.csv\")"
   ]
  },
  {
   "cell_type": "markdown",
   "id": "a6fdb23a",
   "metadata": {},
   "source": [
    "### 6.2. En GeoDataframe"
   ]
  },
  {
   "cell_type": "code",
   "execution_count": 9,
   "id": "e48acd72",
   "metadata": {},
   "outputs": [
    {
     "data": {
      "text/html": [
       "<div>\n",
       "<style scoped>\n",
       "    .dataframe tbody tr th:only-of-type {\n",
       "        vertical-align: middle;\n",
       "    }\n",
       "\n",
       "    .dataframe tbody tr th {\n",
       "        vertical-align: top;\n",
       "    }\n",
       "\n",
       "    .dataframe thead th {\n",
       "        text-align: right;\n",
       "    }\n",
       "</style>\n",
       "<table border=\"1\" class=\"dataframe\">\n",
       "  <thead>\n",
       "    <tr style=\"text-align: right;\">\n",
       "      <th></th>\n",
       "      <th>edad</th>\n",
       "      <th>calidad_vida</th>\n",
       "      <th>geometry</th>\n",
       "    </tr>\n",
       "  </thead>\n",
       "  <tbody>\n",
       "    <tr>\n",
       "      <th>0</th>\n",
       "      <td>-1.362061</td>\n",
       "      <td>22.693689</td>\n",
       "      <td>POINT (1.73927 -1.14912)</td>\n",
       "    </tr>\n",
       "    <tr>\n",
       "      <th>1</th>\n",
       "      <td>-1.317309</td>\n",
       "      <td>21.209745</td>\n",
       "      <td>POINT (-1.94937 1.96328)</td>\n",
       "    </tr>\n",
       "    <tr>\n",
       "      <th>2</th>\n",
       "      <td>-1.272556</td>\n",
       "      <td>21.516243</td>\n",
       "      <td>POINT (-1.84289 1.96577)</td>\n",
       "    </tr>\n",
       "    <tr>\n",
       "      <th>3</th>\n",
       "      <td>-1.317309</td>\n",
       "      <td>12.038342</td>\n",
       "      <td>POINT (-1.83766 1.77491)</td>\n",
       "    </tr>\n",
       "    <tr>\n",
       "      <th>4</th>\n",
       "      <td>-1.183051</td>\n",
       "      <td>20.745489</td>\n",
       "      <td>POINT (-1.85599 1.90435)</td>\n",
       "    </tr>\n",
       "  </tbody>\n",
       "</table>\n",
       "</div>"
      ],
      "text/plain": [
       "       edad  calidad_vida                  geometry\n",
       "0 -1.362061     22.693689  POINT (1.73927 -1.14912)\n",
       "1 -1.317309     21.209745  POINT (-1.94937 1.96328)\n",
       "2 -1.272556     21.516243  POINT (-1.84289 1.96577)\n",
       "3 -1.317309     12.038342  POINT (-1.83766 1.77491)\n",
       "4 -1.183051     20.745489  POINT (-1.85599 1.90435)"
      ]
     },
     "execution_count": 9,
     "metadata": {},
     "output_type": "execute_result"
    }
   ],
   "source": [
    "georf = gpd.GeoDataFrame(df.drop(['latitud', 'longitud'], axis=1), crs=\"EPSG:4326\", geometry=gpd.points_from_xy(df['longitud'], df['latitud']))\n",
    "georf.head()"
   ]
  },
  {
   "cell_type": "code",
   "execution_count": 10,
   "id": "9b0de650",
   "metadata": {},
   "outputs": [],
   "source": [
    "georf.to_file(\"Predicciones/XGBoost.shp\")"
   ]
  }
 ],
 "metadata": {
  "kernelspec": {
   "display_name": "Python 3 (ipykernel)",
   "language": "python",
   "name": "python3"
  },
  "language_info": {
   "codemirror_mode": {
    "name": "ipython",
    "version": 3
   },
   "file_extension": ".py",
   "mimetype": "text/x-python",
   "name": "python",
   "nbconvert_exporter": "python",
   "pygments_lexer": "ipython3",
   "version": "3.8.16"
  }
 },
 "nbformat": 4,
 "nbformat_minor": 5
}
