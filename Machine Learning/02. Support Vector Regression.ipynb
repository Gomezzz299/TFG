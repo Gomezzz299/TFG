{
 "cells": [
  {
   "cell_type": "markdown",
   "id": "8fccc00d",
   "metadata": {},
   "source": [
    "# Support Vector Regressor\n",
    "\n",
    "## 1. Importación de librerías, establecimiento de directorio de trabajo y carga de datos"
   ]
  },
  {
   "cell_type": "code",
   "execution_count": 13,
   "id": "9a6c6ec4",
   "metadata": {},
   "outputs": [],
   "source": [
    "# librerías básicas \n",
    "import os\n",
    "import pandas as pd  \n",
    "import numpy as np  \n",
    "import warnings  \n",
    "warnings.filterwarnings('ignore')\n",
    "  \n",
    "# para la construcción del modelo \n",
    "from sklearn.model_selection import train_test_split\n",
    "from sklearn.preprocessing import StandardScaler\n",
    "\n",
    "# algoritmo\n",
    "from sklearn.svm import SVR\n",
    "from sklearn.svm import NuSVR\n",
    "from sklearn.svm import LinearSVR\n",
    "\n",
    "# para obtener métricas\n",
    "from sklearn.metrics import r2_score, mean_absolute_error, mean_squared_error\n",
    "from sklearn.model_selection import cross_val_score\n",
    "from sklearn.model_selection import GridSearchCV\n",
    "from sklearn.model_selection import RepeatedKFold\n",
    "\n",
    "# para guardar el modelo\n",
    "import pickle\n",
    "  \n",
    "# para visualización\n",
    "import seaborn as sns  \n",
    "import matplotlib.pyplot as plt  \n",
    "from mpl_toolkits.mplot3d import Axes3D  \n",
    "%matplotlib inline  \n",
    "\n",
    "os.chdir(\"C:/Users/aleja/OneDrive - Universidad Politécnica de Madrid/Universidad/Asignaturas/Cuarto/Trabajo de Fin de Grado\")"
   ]
  },
  {
   "cell_type": "code",
   "execution_count": 2,
   "id": "a5ba9f8e",
   "metadata": {},
   "outputs": [
    {
     "data": {
      "text/html": [
       "<div>\n",
       "<style scoped>\n",
       "    .dataframe tbody tr th:only-of-type {\n",
       "        vertical-align: middle;\n",
       "    }\n",
       "\n",
       "    .dataframe tbody tr th {\n",
       "        vertical-align: top;\n",
       "    }\n",
       "\n",
       "    .dataframe thead th {\n",
       "        text-align: right;\n",
       "    }\n",
       "</style>\n",
       "<table border=\"1\" class=\"dataframe\">\n",
       "  <thead>\n",
       "    <tr style=\"text-align: right;\">\n",
       "      <th></th>\n",
       "      <th>latitud</th>\n",
       "      <th>longitud</th>\n",
       "      <th>edad</th>\n",
       "      <th>calidad_vida</th>\n",
       "    </tr>\n",
       "  </thead>\n",
       "  <tbody>\n",
       "    <tr>\n",
       "      <th>0</th>\n",
       "      <td>41.621468</td>\n",
       "      <td>2.068474</td>\n",
       "      <td>11</td>\n",
       "      <td>52.885748</td>\n",
       "    </tr>\n",
       "    <tr>\n",
       "      <th>1</th>\n",
       "      <td>41.600270</td>\n",
       "      <td>2.085002</td>\n",
       "      <td>12</td>\n",
       "      <td>74.793875</td>\n",
       "    </tr>\n",
       "    <tr>\n",
       "      <th>2</th>\n",
       "      <td>41.616524</td>\n",
       "      <td>2.089927</td>\n",
       "      <td>12</td>\n",
       "      <td>79.858657</td>\n",
       "    </tr>\n",
       "    <tr>\n",
       "      <th>3</th>\n",
       "      <td>41.618820</td>\n",
       "      <td>2.089480</td>\n",
       "      <td>11</td>\n",
       "      <td>79.858657</td>\n",
       "    </tr>\n",
       "    <tr>\n",
       "      <th>4</th>\n",
       "      <td>41.618908</td>\n",
       "      <td>2.089475</td>\n",
       "      <td>12</td>\n",
       "      <td>79.858657</td>\n",
       "    </tr>\n",
       "  </tbody>\n",
       "</table>\n",
       "</div>"
      ],
      "text/plain": [
       "     latitud  longitud  edad  calidad_vida\n",
       "0  41.621468  2.068474    11     52.885748\n",
       "1  41.600270  2.085002    12     74.793875\n",
       "2  41.616524  2.089927    12     79.858657\n",
       "3  41.618820  2.089480    11     79.858657\n",
       "4  41.618908  2.089475    12     79.858657"
      ]
     },
     "execution_count": 2,
     "metadata": {},
     "output_type": "execute_result"
    }
   ],
   "source": [
    "accesos = pd.read_csv(\"Resultados/Accesos/Accesos_Calidad_Vida.csv\", index_col=\"Unnamed: 0\")\n",
    "accesos.head()"
   ]
  },
  {
   "cell_type": "markdown",
   "id": "26f467d5",
   "metadata": {},
   "source": [
    "## 2. Construcción de la matriz de características (X) y el vector variable dependiente (y)"
   ]
  },
  {
   "cell_type": "code",
   "execution_count": 3,
   "id": "091cdb9c",
   "metadata": {},
   "outputs": [],
   "source": [
    "X = accesos.iloc[:, :-1].values\n",
    "y = accesos.iloc[:, -1].values"
   ]
  },
  {
   "cell_type": "markdown",
   "id": "a0e6e764",
   "metadata": {},
   "source": [
    "## 3. División del dataset en set de entrenamiento y de test"
   ]
  },
  {
   "cell_type": "code",
   "execution_count": 4,
   "id": "31ac1139",
   "metadata": {},
   "outputs": [],
   "source": [
    "X_train, X_test, y_train, y_test = train_test_split(X, y, test_size=0.2, random_state=5)"
   ]
  },
  {
   "cell_type": "markdown",
   "id": "7f82d46b",
   "metadata": {},
   "source": [
    "## 4. Feature scaling of X (rango: -3 a 3)"
   ]
  },
  {
   "cell_type": "code",
   "execution_count": 5,
   "id": "e1273ad5",
   "metadata": {},
   "outputs": [],
   "source": [
    "sc = StandardScaler()\n",
    "X_train = sc.fit_transform(X_train)\n",
    "X_test = sc.transform(X_test)"
   ]
  },
  {
   "cell_type": "markdown",
   "id": "39eaf209",
   "metadata": {},
   "source": [
    "## 5. Construcción y entrenamiento del modelo de regresión sobre el set de entrenamiento"
   ]
  },
  {
   "cell_type": "code",
   "execution_count": 6,
   "id": "4538b575",
   "metadata": {},
   "outputs": [
    {
     "data": {
      "text/html": [
       "<style>#sk-container-id-1 {color: black;background-color: white;}#sk-container-id-1 pre{padding: 0;}#sk-container-id-1 div.sk-toggleable {background-color: white;}#sk-container-id-1 label.sk-toggleable__label {cursor: pointer;display: block;width: 100%;margin-bottom: 0;padding: 0.3em;box-sizing: border-box;text-align: center;}#sk-container-id-1 label.sk-toggleable__label-arrow:before {content: \"▸\";float: left;margin-right: 0.25em;color: #696969;}#sk-container-id-1 label.sk-toggleable__label-arrow:hover:before {color: black;}#sk-container-id-1 div.sk-estimator:hover label.sk-toggleable__label-arrow:before {color: black;}#sk-container-id-1 div.sk-toggleable__content {max-height: 0;max-width: 0;overflow: hidden;text-align: left;background-color: #f0f8ff;}#sk-container-id-1 div.sk-toggleable__content pre {margin: 0.2em;color: black;border-radius: 0.25em;background-color: #f0f8ff;}#sk-container-id-1 input.sk-toggleable__control:checked~div.sk-toggleable__content {max-height: 200px;max-width: 100%;overflow: auto;}#sk-container-id-1 input.sk-toggleable__control:checked~label.sk-toggleable__label-arrow:before {content: \"▾\";}#sk-container-id-1 div.sk-estimator input.sk-toggleable__control:checked~label.sk-toggleable__label {background-color: #d4ebff;}#sk-container-id-1 div.sk-label input.sk-toggleable__control:checked~label.sk-toggleable__label {background-color: #d4ebff;}#sk-container-id-1 input.sk-hidden--visually {border: 0;clip: rect(1px 1px 1px 1px);clip: rect(1px, 1px, 1px, 1px);height: 1px;margin: -1px;overflow: hidden;padding: 0;position: absolute;width: 1px;}#sk-container-id-1 div.sk-estimator {font-family: monospace;background-color: #f0f8ff;border: 1px dotted black;border-radius: 0.25em;box-sizing: border-box;margin-bottom: 0.5em;}#sk-container-id-1 div.sk-estimator:hover {background-color: #d4ebff;}#sk-container-id-1 div.sk-parallel-item::after {content: \"\";width: 100%;border-bottom: 1px solid gray;flex-grow: 1;}#sk-container-id-1 div.sk-label:hover label.sk-toggleable__label {background-color: #d4ebff;}#sk-container-id-1 div.sk-serial::before {content: \"\";position: absolute;border-left: 1px solid gray;box-sizing: border-box;top: 0;bottom: 0;left: 50%;z-index: 0;}#sk-container-id-1 div.sk-serial {display: flex;flex-direction: column;align-items: center;background-color: white;padding-right: 0.2em;padding-left: 0.2em;position: relative;}#sk-container-id-1 div.sk-item {position: relative;z-index: 1;}#sk-container-id-1 div.sk-parallel {display: flex;align-items: stretch;justify-content: center;background-color: white;position: relative;}#sk-container-id-1 div.sk-item::before, #sk-container-id-1 div.sk-parallel-item::before {content: \"\";position: absolute;border-left: 1px solid gray;box-sizing: border-box;top: 0;bottom: 0;left: 50%;z-index: -1;}#sk-container-id-1 div.sk-parallel-item {display: flex;flex-direction: column;z-index: 1;position: relative;background-color: white;}#sk-container-id-1 div.sk-parallel-item:first-child::after {align-self: flex-end;width: 50%;}#sk-container-id-1 div.sk-parallel-item:last-child::after {align-self: flex-start;width: 50%;}#sk-container-id-1 div.sk-parallel-item:only-child::after {width: 0;}#sk-container-id-1 div.sk-dashed-wrapped {border: 1px dashed gray;margin: 0 0.4em 0.5em 0.4em;box-sizing: border-box;padding-bottom: 0.4em;background-color: white;}#sk-container-id-1 div.sk-label label {font-family: monospace;font-weight: bold;display: inline-block;line-height: 1.2em;}#sk-container-id-1 div.sk-label-container {text-align: center;}#sk-container-id-1 div.sk-container {/* jupyter's `normalize.less` sets `[hidden] { display: none; }` but bootstrap.min.css set `[hidden] { display: none !important; }` so we also need the `!important` here to be able to override the default hidden behavior on the sphinx rendered scikit-learn.org. See: https://github.com/scikit-learn/scikit-learn/issues/21755 */display: inline-block !important;position: relative;}#sk-container-id-1 div.sk-text-repr-fallback {display: none;}</style><div id=\"sk-container-id-1\" class=\"sk-top-container\"><div class=\"sk-text-repr-fallback\"><pre>NuSVR(C=100)</pre><b>In a Jupyter environment, please rerun this cell to show the HTML representation or trust the notebook. <br />On GitHub, the HTML representation is unable to render, please try loading this page with nbviewer.org.</b></div><div class=\"sk-container\" hidden><div class=\"sk-item\"><div class=\"sk-estimator sk-toggleable\"><input class=\"sk-toggleable__control sk-hidden--visually\" id=\"sk-estimator-id-1\" type=\"checkbox\" checked><label for=\"sk-estimator-id-1\" class=\"sk-toggleable__label sk-toggleable__label-arrow\">NuSVR</label><div class=\"sk-toggleable__content\"><pre>NuSVR(C=100)</pre></div></div></div></div></div>"
      ],
      "text/plain": [
       "NuSVR(C=100)"
      ]
     },
     "execution_count": 6,
     "metadata": {},
     "output_type": "execute_result"
    }
   ],
   "source": [
    "# se crean 4 modelos por cada kernel del algoritmo y 2 más por cada tipo de SVR\n",
    "svr_rbf = SVR(kernel=\"rbf\", C=100, gamma=0.1, epsilon=0.1)\n",
    "svr_lin = SVR(kernel=\"linear\", C=100, gamma=\"auto\")\n",
    "svr_poly = SVR(kernel=\"poly\", C=100, gamma=\"auto\", degree=3, epsilon=0.1, coef0=1)\n",
    "svr_sig = SVR(kernel=\"sigmoid\", C=100, gamma=\"auto\")\n",
    "svr_linear = LinearSVR(C=100)\n",
    "svr_nu = NuSVR(kernel=\"rbf\", C=100)\n",
    "\n",
    "# se entrenan los modelos con el dataset de entrenamiento\n",
    "svr_rbf.fit(X_train, y_train) \n",
    "svr_lin.fit(X_train, y_train) \n",
    "svr_poly.fit(X_train, y_train) \n",
    "svr_sig.fit(X_train, y_train) \n",
    "svr_linear.fit(X_train, y_train) \n",
    "svr_nu.fit(X_train, y_train) "
   ]
  },
  {
   "cell_type": "markdown",
   "id": "142851d3",
   "metadata": {},
   "source": [
    "## 6. Predicción de resultados del set de test"
   ]
  },
  {
   "cell_type": "code",
   "execution_count": 7,
   "id": "5e47acbf",
   "metadata": {},
   "outputs": [],
   "source": [
    "y_pred_rbf = svr_rbf.predict(X_test)\n",
    "y_pred_lin = svr_lin.predict(X_test)\n",
    "y_pred_poly = svr_poly.predict(X_test)\n",
    "y_pred_sig = svr_poly.predict(X_test)\n",
    "y_pred_linear = svr_linear.predict(X_test)\n",
    "y_pred_nu = svr_nu.predict(X_test)"
   ]
  },
  {
   "cell_type": "markdown",
   "id": "75885229",
   "metadata": {},
   "source": [
    "## 7.  Métricas de rendimiento"
   ]
  },
  {
   "cell_type": "code",
   "execution_count": 10,
   "id": "b1d56999",
   "metadata": {},
   "outputs": [
    {
     "name": "stdout",
     "output_type": "stream",
     "text": [
      "\t\tRBF\t\tLinear\t\tPolynomial\t\tSigmoid\t\tLinearSVR\t\tNuSVR\n",
      "R2score: 0.962863703800964 0.6552149149196811 0.8954363426809763 0.8954363426809763 0.6572807693883878 0.9833135243485418\n",
      "MAE: \t 1.9841965806349153 8.069982837760053 3.541296007357603 3.541296007357603 8.073438226662311 1.2410708126012129\n",
      "MSE: \t 14.94645859615811 138.76763506802277 42.08433620858022 42.08433620858022 137.93617874516482 6.715901771776427\n",
      "RMSE: \t 3.8660650015433147 11.779967532553847 6.487244115075385 6.487244115075385 11.74462339733228 2.5915056958796034\n"
     ]
    }
   ],
   "source": [
    "#Methods\n",
    "print('\\t\\tRBF\\t\\tLinear\\t\\tPolynomial\\t\\tSigmoid\\t\\tLinearSVR\\t\\tNuSVR')\n",
    "\n",
    "# R2score\n",
    "print('R2score:', \n",
    "      r2_score(y_test, y_pred_rbf), \n",
    "      r2_score(y_test, y_pred_lin), \n",
    "      r2_score(y_test, y_pred_poly), \n",
    "      r2_score(y_test, y_pred_sig), \n",
    "      r2_score(y_test, y_pred_linear), \n",
    "      r2_score(y_test, y_pred_nu))\n",
    "\n",
    "# Mean Absolute Error\n",
    "print('MAE: \\t', \n",
    "      mean_absolute_error(y_test, y_pred_rbf), \n",
    "      mean_absolute_error(y_test, y_pred_lin), \n",
    "      mean_absolute_error(y_test, y_pred_poly), \n",
    "      mean_absolute_error(y_test, y_pred_sig), \n",
    "      mean_absolute_error(y_test, y_pred_linear), \n",
    "      mean_absolute_error(y_test, y_pred_nu))\n",
    "\n",
    "# Mean Squared Error\n",
    "print('MSE: \\t', \n",
    "      mean_squared_error(y_test, y_pred_rbf), \n",
    "      mean_squared_error(y_test, y_pred_lin), \n",
    "      mean_squared_error(y_test, y_pred_poly), \n",
    "      mean_squared_error(y_test, y_pred_sig), \n",
    "      mean_squared_error(y_test, y_pred_linear), \n",
    "      mean_squared_error(y_test, y_pred_nu))\n",
    "\n",
    "# Root Mean Squared Error\n",
    "print(\"RMSE: \\t\", \n",
    "      mean_squared_error(y_test, y_pred_rbf, squared=False), \n",
    "      mean_squared_error(y_test, y_pred_lin, squared=False), \n",
    "      mean_squared_error(y_test, y_pred_poly, squared=False), \n",
    "      mean_squared_error(y_test, y_pred_sig, squared=False), \n",
    "      mean_squared_error(y_test, y_pred_linear, squared=False), \n",
    "      mean_squared_error(y_test, y_pred_nu, squared=False))"
   ]
  },
  {
   "cell_type": "markdown",
   "id": "d0bbbcf6",
   "metadata": {},
   "source": [
    "### 7.1. Para ganar más intuición"
   ]
  },
  {
   "cell_type": "code",
   "execution_count": 11,
   "id": "189ede12",
   "metadata": {},
   "outputs": [
    {
     "name": "stdout",
     "output_type": "stream",
     "text": [
      "[[77.4  79.86]\n",
      " [80.14 79.86]\n",
      " [79.69 79.86]\n",
      " ...\n",
      " [80.06 79.86]\n",
      " [79.67 79.86]\n",
      " [80.04 79.86]]\n"
     ]
    }
   ],
   "source": [
    "np.set_printoptions(precision=2) # redondea a dos decimales\n",
    "\n",
    "print(np.concatenate((y_pred_nu.reshape(len(y_pred_nu), 1), y_test.reshape(len(y_test), 1)), 1))"
   ]
  },
  {
   "cell_type": "markdown",
   "id": "677fe3e5",
   "metadata": {},
   "source": [
    "### 7.2 Más métricas de rendimiento"
   ]
  },
  {
   "cell_type": "code",
   "execution_count": null,
   "id": "cda6c104",
   "metadata": {},
   "outputs": [],
   "source": [
    "accuracies = cross_val_score(estimator = svr_nu, X = X_train, y = y_train, cv = 10)\n",
    "\n",
    "print(\"Accuracy: {:.2f} %\".format(accuracies.mean()*100))\n",
    "print(\"Standard Deviation: {:.2f} %\".format(accuracies.std()*100))"
   ]
  },
  {
   "cell_type": "markdown",
   "id": "d38eb2de",
   "metadata": {},
   "source": [
    "### 7.3 Grid Search"
   ]
  },
  {
   "cell_type": "code",
   "execution_count": null,
   "id": "a77e7615",
   "metadata": {},
   "outputs": [],
   "source": [
    "parameters = {\n",
    "    'C': [1, 10, 100],\n",
    "    'epsilon': [0.5, 1, 1.5]\n",
    "}\n",
    "\n",
    "cv = RepeatedKFold(n_splits=10, n_repeats=3, random_state=1)\n",
    "\n",
    "grid_search = GridSearchCV(estimator = svr_nu,\n",
    "                           param_grid = parameters,\n",
    "                           scoring = 'r2',\n",
    "                           cv = cv,\n",
    "                           n_jobs = -1)\n",
    "\n",
    "grid_search.fit(X_train, y_train)\n",
    "\n",
    "best_accuracy = grid_search.best_score_\n",
    "best_parameters = grid_search.best_params_\n",
    "\n",
    "print(\"Best r2: {:.2f} %\".format(best_accuracy*100))\n",
    "print(\"Best Parameters:\", best_parameters)"
   ]
  },
  {
   "cell_type": "markdown",
   "id": "6d440ffc",
   "metadata": {},
   "source": [
    "## 8. Guardar el mejor modelo"
   ]
  },
  {
   "cell_type": "code",
   "execution_count": null,
   "id": "f1096896",
   "metadata": {},
   "outputs": [],
   "source": [
    "with open('Modelos/SVR/SVM_rbf.pkl','wb') as f:\n",
    "    pickle.dump(svr_rbf,f)\n",
    "    \n",
    "with open('Modelos/SVR/SVM_lin.pkl','wb') as f:\n",
    "    pickle.dump(svr_lin,f)\n",
    "    \n",
    "with open('Modelos/SVR/SVM_poly.pkl','wb') as f:\n",
    "    pickle.dump(svr_poly,f)\n",
    "    \n",
    "with open('Modelos/SVR/SVM_sig.pkl','wb') as f:\n",
    "    pickle.dump(svr_sig,f)\n",
    "    \n",
    "with open('Modelos/SVR/SVM_linear.pkl','wb') as f:\n",
    "    pickle.dump(svr_linear,f)\n",
    "    \n",
    "with open('Modelos/SVR/NUSVM.pkl','wb') as f:\n",
    "    pickle.dump(svr_nu,f)"
   ]
  },
  {
   "cell_type": "markdown",
   "id": "240cd2f4",
   "metadata": {},
   "source": [
    "## 9. Ejemplo de predicción"
   ]
  },
  {
   "cell_type": "code",
   "execution_count": null,
   "id": "0695678e",
   "metadata": {},
   "outputs": [],
   "source": [
    "print(regressor.predict(sc.transform([['425060.955125', '4.606138e+06', '22']]))) "
   ]
  },
  {
   "cell_type": "code",
   "execution_count": null,
   "id": "0922c38a",
   "metadata": {},
   "outputs": [],
   "source": []
  }
 ],
 "metadata": {
  "kernelspec": {
   "display_name": "Python 3 (ipykernel)",
   "language": "python",
   "name": "python3"
  },
  "language_info": {
   "codemirror_mode": {
    "name": "ipython",
    "version": 3
   },
   "file_extension": ".py",
   "mimetype": "text/x-python",
   "name": "python",
   "nbconvert_exporter": "python",
   "pygments_lexer": "ipython3",
   "version": "3.8.16"
  }
 },
 "nbformat": 4,
 "nbformat_minor": 5
}
