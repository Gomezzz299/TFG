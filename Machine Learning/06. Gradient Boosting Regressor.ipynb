{
 "cells": [
  {
   "cell_type": "markdown",
   "id": "8fccc00d",
   "metadata": {},
   "source": [
    "# Gradient Boosting Regressor\n",
    "\n",
    "## 1. Importación de librerías, establecimiento de directorio de trabajo y carga de datos"
   ]
  },
  {
   "cell_type": "code",
   "execution_count": 1,
   "id": "db45522e",
   "metadata": {},
   "outputs": [],
   "source": [
    "# librerias principales para uso y visualización de datos\n",
    "import os\n",
    "import numpy as np\n",
    "import matplotlib.pyplot as plt\n",
    "import pandas as pd\n",
    "import warnings  \n",
    "warnings.filterwarnings('ignore')\n",
    "\n",
    "# dividir datos para modelo\n",
    "from sklearn.model_selection import train_test_split\n",
    "from sklearn.preprocessing import StandardScaler\n",
    "\n",
    "# algoritmo\n",
    "from sklearn.ensemble import GradientBoostingRegressor\n",
    "\n",
    "# metricas de rendimiento\n",
    "from sklearn.metrics import r2_score, mean_absolute_error, mean_squared_error\n",
    "from sklearn.model_selection import cross_val_score\n",
    "from sklearn.model_selection import GridSearchCV\n",
    "from sklearn.model_selection import RepeatedKFold\n",
    "\n",
    "# guardar el modelo\n",
    "import pickle\n",
    "\n",
    "os.chdir(\"C:/Users/aleja/OneDrive - Universidad Politécnica de Madrid/Universidad/Asignaturas/Cuarto/Trabajo de Fin de Grado\")"
   ]
  },
  {
   "cell_type": "code",
   "execution_count": 5,
   "id": "a5ba9f8e",
   "metadata": {},
   "outputs": [
    {
     "data": {
      "text/html": [
       "<div>\n",
       "<style scoped>\n",
       "    .dataframe tbody tr th:only-of-type {\n",
       "        vertical-align: middle;\n",
       "    }\n",
       "\n",
       "    .dataframe tbody tr th {\n",
       "        vertical-align: top;\n",
       "    }\n",
       "\n",
       "    .dataframe thead th {\n",
       "        text-align: right;\n",
       "    }\n",
       "</style>\n",
       "<table border=\"1\" class=\"dataframe\">\n",
       "  <thead>\n",
       "    <tr style=\"text-align: right;\">\n",
       "      <th></th>\n",
       "      <th>latitud</th>\n",
       "      <th>longitud</th>\n",
       "      <th>edad</th>\n",
       "      <th>calidad_vida</th>\n",
       "    </tr>\n",
       "  </thead>\n",
       "  <tbody>\n",
       "    <tr>\n",
       "      <th>0</th>\n",
       "      <td>41.621468</td>\n",
       "      <td>2.068474</td>\n",
       "      <td>11</td>\n",
       "      <td>52.885748</td>\n",
       "    </tr>\n",
       "    <tr>\n",
       "      <th>1</th>\n",
       "      <td>41.600270</td>\n",
       "      <td>2.085002</td>\n",
       "      <td>12</td>\n",
       "      <td>74.793875</td>\n",
       "    </tr>\n",
       "    <tr>\n",
       "      <th>2</th>\n",
       "      <td>41.616524</td>\n",
       "      <td>2.089927</td>\n",
       "      <td>12</td>\n",
       "      <td>79.858657</td>\n",
       "    </tr>\n",
       "    <tr>\n",
       "      <th>3</th>\n",
       "      <td>41.618820</td>\n",
       "      <td>2.089480</td>\n",
       "      <td>11</td>\n",
       "      <td>79.858657</td>\n",
       "    </tr>\n",
       "    <tr>\n",
       "      <th>4</th>\n",
       "      <td>41.618908</td>\n",
       "      <td>2.089475</td>\n",
       "      <td>12</td>\n",
       "      <td>79.858657</td>\n",
       "    </tr>\n",
       "  </tbody>\n",
       "</table>\n",
       "</div>"
      ],
      "text/plain": [
       "     latitud  longitud  edad  calidad_vida\n",
       "0  41.621468  2.068474    11     52.885748\n",
       "1  41.600270  2.085002    12     74.793875\n",
       "2  41.616524  2.089927    12     79.858657\n",
       "3  41.618820  2.089480    11     79.858657\n",
       "4  41.618908  2.089475    12     79.858657"
      ]
     },
     "execution_count": 5,
     "metadata": {},
     "output_type": "execute_result"
    }
   ],
   "source": [
    "accesos = pd.read_csv(\"Resultados/Accesos_Calidad_Vida.csv\", index_col=\"Unnamed: 0\")\n",
    "accesos.head()"
   ]
  },
  {
   "cell_type": "markdown",
   "id": "26f467d5",
   "metadata": {},
   "source": [
    "## 2. Construcción de la matriz de características (X) y el vector variable dependiente (y)"
   ]
  },
  {
   "cell_type": "code",
   "execution_count": 6,
   "id": "091cdb9c",
   "metadata": {},
   "outputs": [],
   "source": [
    "X = accesos.iloc[:, :-1].values\n",
    "y = accesos.iloc[:, -1].values"
   ]
  },
  {
   "cell_type": "markdown",
   "id": "a0e6e764",
   "metadata": {},
   "source": [
    "## 3. División del dataset en set de entrenamiento y de test"
   ]
  },
  {
   "cell_type": "code",
   "execution_count": 7,
   "id": "31ac1139",
   "metadata": {},
   "outputs": [],
   "source": [
    "X_train, X_test, y_train, y_test = train_test_split(X, y, test_size=0.2, random_state=500)"
   ]
  },
  {
   "cell_type": "markdown",
   "id": "7f82d46b",
   "metadata": {},
   "source": [
    "## 4. Feature scaling of X (rango: -3 a 3)"
   ]
  },
  {
   "cell_type": "code",
   "execution_count": 8,
   "id": "e1273ad5",
   "metadata": {},
   "outputs": [],
   "source": [
    "sc = StandardScaler()\n",
    "X_train = sc.fit_transform(X_train)\n",
    "X_test = sc.transform(X_test)"
   ]
  },
  {
   "cell_type": "markdown",
   "id": "39eaf209",
   "metadata": {},
   "source": [
    "## 5. Construcción y entrenamiento del modelo de regresión sobre el set de entrenamiento"
   ]
  },
  {
   "cell_type": "code",
   "execution_count": 9,
   "id": "4538b575",
   "metadata": {},
   "outputs": [
    {
     "data": {
      "text/plain": [
       "GradientBoostingRegressor(n_estimators=700)"
      ]
     },
     "execution_count": 9,
     "metadata": {},
     "output_type": "execute_result"
    }
   ],
   "source": [
    "regressor = GradientBoostingRegressor(n_estimators=700, max_depth=3)\n",
    "regressor.fit(X_train, y_train)"
   ]
  },
  {
   "cell_type": "markdown",
   "id": "142851d3",
   "metadata": {},
   "source": [
    "## 6. Predicción de resultados del set de test"
   ]
  },
  {
   "cell_type": "code",
   "execution_count": 10,
   "id": "5e47acbf",
   "metadata": {},
   "outputs": [],
   "source": [
    "y_pred = regressor.predict(X_test)"
   ]
  },
  {
   "cell_type": "markdown",
   "id": "75885229",
   "metadata": {},
   "source": [
    "## 7.  Métricas de rendimiento\n",
    "Comparamos el set de test con el predicho"
   ]
  },
  {
   "cell_type": "code",
   "execution_count": 11,
   "id": "b1d56999",
   "metadata": {},
   "outputs": [
    {
     "name": "stdout",
     "output_type": "stream",
     "text": [
      "R2score: 0.991048465774164\n",
      "MAE: \t 0.8749122891200584\n",
      "MSE: \t 3.6110513439049194\n",
      "RMSE:  1.9002766493079157\n"
     ]
    }
   ],
   "source": [
    "# R2score\n",
    "print('R2score:', r2_score(y_test, y_pred))\n",
    "\n",
    "# Mean Absolute Error\n",
    "print('MAE: \\t', mean_absolute_error(y_test, y_pred))\n",
    "\n",
    "# Mean Squared Error\n",
    "print('MSE: \\t', mean_squared_error(y_test, y_pred))\n",
    "\n",
    "# Root Mean Squared Error\n",
    "print(\"RMSE: \", mean_squared_error(y_test, y_pred, squared=False))"
   ]
  },
  {
   "cell_type": "markdown",
   "id": "d0bbbcf6",
   "metadata": {},
   "source": [
    "### 7.1. Para ganar más intuición"
   ]
  },
  {
   "cell_type": "code",
   "execution_count": 9,
   "id": "189ede12",
   "metadata": {},
   "outputs": [
    {
     "name": "stdout",
     "output_type": "stream",
     "text": [
      "[[29.77 29.09]\n",
      " [71.4  74.79]\n",
      " [74.75 79.86]\n",
      " ...\n",
      " [80.   79.86]\n",
      " [80.   79.86]\n",
      " [80.   79.86]]\n"
     ]
    }
   ],
   "source": [
    "np.set_printoptions(precision=2) # redondea a dos decimales\n",
    "\n",
    "print(np.concatenate((y_pred.reshape(len(y_pred), 1), y_test.reshape(len(y_test), 1)), 1))"
   ]
  },
  {
   "cell_type": "markdown",
   "id": "ba7ed79e",
   "metadata": {},
   "source": [
    "## 8. Probar otro modelo"
   ]
  },
  {
   "cell_type": "code",
   "execution_count": 21,
   "id": "ce17284f",
   "metadata": {},
   "outputs": [
    {
     "data": {
      "text/plain": [
       "GradientBoostingRegressor(criterion='mse', learning_rate=1, n_estimators=50)"
      ]
     },
     "execution_count": 21,
     "metadata": {},
     "output_type": "execute_result"
    }
   ],
   "source": [
    "regressor = GradientBoostingRegressor(n_estimators=50, max_depth=3, learning_rate=1, criterion='mse')\n",
    "regressor.fit(X_train, y_train)"
   ]
  },
  {
   "cell_type": "code",
   "execution_count": 18,
   "id": "af4688c8",
   "metadata": {},
   "outputs": [],
   "source": [
    "y_pred = regressor.predict(X_test)"
   ]
  },
  {
   "cell_type": "code",
   "execution_count": 19,
   "id": "9997264b",
   "metadata": {},
   "outputs": [
    {
     "name": "stdout",
     "output_type": "stream",
     "text": [
      "R2score: 0.9877629250182701\n",
      "MAE: \t 0.9927493983473472\n",
      "MSE: \t 4.936439379375084\n",
      "RMSE:  2.221809933224506\n"
     ]
    }
   ],
   "source": [
    "# R2score\n",
    "print('R2score:', r2_score(y_test, y_pred))\n",
    "\n",
    "# Mean Absolute Error\n",
    "print('MAE: \\t', mean_absolute_error(y_test, y_pred))\n",
    "\n",
    "# Mean Squared Error\n",
    "print('MSE: \\t', mean_squared_error(y_test, y_pred))\n",
    "\n",
    "# Root Mean Squared Error\n",
    "print(\"RMSE: \", mean_squared_error(y_test, y_pred, squared=False))"
   ]
  },
  {
   "cell_type": "markdown",
   "id": "c2a27378",
   "metadata": {},
   "source": [
    "## 9. Guardar el mejor modelo"
   ]
  },
  {
   "cell_type": "code",
   "execution_count": null,
   "id": "05d7febc",
   "metadata": {},
   "outputs": [],
   "source": [
    "with open('Modelos/Gradient_Boosting_Regressor.pkl','wb') as f:\n",
    "    pickle.dump(regressor, f)"
   ]
  },
  {
   "cell_type": "markdown",
   "id": "fd6e13a4",
   "metadata": {},
   "source": [
    "## 10. Ejemplo de predicción"
   ]
  },
  {
   "cell_type": "code",
   "execution_count": 22,
   "id": "0695678e",
   "metadata": {},
   "outputs": [
    {
     "name": "stdout",
     "output_type": "stream",
     "text": [
      "[9.20459904]\n"
     ]
    }
   ],
   "source": [
    "print(regressor.predict(sc.transform([['425060.955125', '4.606138e+06', '22']]))) "
   ]
  },
  {
   "cell_type": "code",
   "execution_count": null,
   "id": "85759731",
   "metadata": {},
   "outputs": [],
   "source": []
  }
 ],
 "metadata": {
  "kernelspec": {
   "display_name": "Python 3 (ipykernel)",
   "language": "python",
   "name": "python3"
  },
  "language_info": {
   "codemirror_mode": {
    "name": "ipython",
    "version": 3
   },
   "file_extension": ".py",
   "mimetype": "text/x-python",
   "name": "python",
   "nbconvert_exporter": "python",
   "pygments_lexer": "ipython3",
   "version": "3.8.16"
  }
 },
 "nbformat": 4,
 "nbformat_minor": 5
}
